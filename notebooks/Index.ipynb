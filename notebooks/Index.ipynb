{
 "cells": [
  {
   "cell_type": "markdown",
   "metadata": {},
   "source": [
    "# Outline\n",
    "\n",
    "These notebooks offer an in-depth guide to interactive scatter plot visualization using [**jupyter-scatter**](https://github.com/flekschas/jupyter-scatter), as presented at SciPy 2023.\n",
    "\n",
    "## 1. Getting Started\n",
    "\n",
    "Link and explore scatter plots using an interactive widget, capable of handling millions of points.\n",
    "\n",
    "- [01-Getting-Started.ipynb](01-Getting-Started.ipynb)\n",
    "   "
   ]
  },
  {
   "cell_type": "code",
   "execution_count": null,
   "metadata": {},
   "outputs": [],
   "source": []
  }
 ],
 "metadata": {
  "kernelspec": {
   "display_name": "Python 3 (ipykernel)",
   "language": "python",
   "name": "python3"
  },
  "language_info": {
   "codemirror_mode": {
    "name": "ipython",
    "version": 3
   },
   "file_extension": ".py",
   "mimetype": "text/x-python",
   "name": "python",
   "nbconvert_exporter": "python",
   "pygments_lexer": "ipython3",
   "version": "3.11.3"
  },
  "nteract": {
   "version": "0.23.1"
  }
 },
 "nbformat": 4,
 "nbformat_minor": 4
}
