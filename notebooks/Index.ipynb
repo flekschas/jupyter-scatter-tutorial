{
 "cells": [
  {
   "cell_type": "markdown",
   "metadata": {},
   "source": [
    "# Outline\n",
    "\n",
    "These notebooks offer an in-depth guide to interactive scatter plot visualizations using [`jupyter-scatter`](https://github.com/flekschas/jupyter-scatter), as presented at [SciPy 2023](https://cfp.scipy.org/2023/talk/AXSVZ3/).\n",
    "\n",
    "## 1. Getting Started With Jupyter Scatter\n",
    "\n",
    "Learn how to visualize medium to large-scale data frames using `jscatter`.\n",
    "\n",
    "- [1-Getting-Started.ipynb](1-Getting-Started.ipynb)\n",
    "\n",
    "## 2. Composing & Linking Multiple Scatter Plots\n",
    "\n",
    "Learn how to plot multiple multiple scatter plots for comparison and how to link/synchronize their point selections and views.\n",
    "\n",
    "- [2-Composing-Linking-Scatter-Plots.ipynb](2-Composing-Linking-Scatter-Plots.ipynb)\n",
    "\n",
    "## 3. Integrating Jupyter Scatter With Other Widgets\n",
    "\n",
    "Learn how to integrate with other widgets to build bespoke interfaces for exploring and analyzing dataset more effectively.\n",
    "\n",
    "- [3-Fashion-MNIST.ipynb](3-Fashion-MNIST.ipynb)\n",
    "- [3-LLM-Sentence-Embedding.ipynb](3-LLM-Sentence-Embedding.ipynb)\n",
    "- [3-Genomics.ipynb](3-Genomics.ipynb)\n",
    "- [3-Comparative-Single-Cell-Embeddings.ipynb](3-Comparative-Single-Cell-Embeddings.ipynb)\n",
    "   "
   ]
  },
  {
   "cell_type": "code",
   "execution_count": null,
   "metadata": {},
   "outputs": [],
   "source": []
  },
  {
   "cell_type": "code",
   "execution_count": null,
   "metadata": {},
   "outputs": [],
   "source": []
  }
 ],
 "metadata": {
  "kernelspec": {
   "display_name": "Python 3 (ipykernel)",
   "language": "python",
   "name": "python3"
  },
  "language_info": {
   "codemirror_mode": {
    "name": "ipython",
    "version": 3
   },
   "file_extension": ".py",
   "mimetype": "text/x-python",
   "name": "python",
   "nbconvert_exporter": "python",
   "pygments_lexer": "ipython3",
   "version": "3.10.9"
  },
  "nteract": {
   "version": "0.23.1"
  }
 },
 "nbformat": 4,
 "nbformat_minor": 4
}
