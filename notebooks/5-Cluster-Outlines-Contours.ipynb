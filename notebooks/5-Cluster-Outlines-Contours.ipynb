{
 "cells": [
  {
   "cell_type": "markdown",
   "id": "fcc6abf0-cee0-45ff-9b84-2e440f148781",
   "metadata": {},
   "source": [
    "# Cluster Outlines & Contours\n",
    "\n",
    "In this notebook we're going to learn how to use line annotations to emphasize cluster boundaries."
   ]
  },
  {
   "cell_type": "code",
   "execution_count": null,
   "id": "0b77fcce-3b02-47e9-a6d2-e68386b50038",
   "metadata": {},
   "outputs": [],
   "source": [
    "# If you run this notebook in Google Colab, you need to manually install the following packages.\n",
    "# !pip install --quiet jupyter-scatter\n",
    "!pip install --quiet scipy"
   ]
  },
  {
   "cell_type": "markdown",
   "id": "db9fea58-4081-4451-a890-7a9704147c96",
   "metadata": {},
   "source": [
    "## Cluster Outlines\n",
    "\n",
    "In the following we render cluster outlines (i.e., hulls) as line annotations. For that we first setup a `scatter` instance with some dummy data."
   ]
  },
  {
   "cell_type": "code",
   "execution_count": null,
   "id": "43318b3e-b8e2-4040-8817-9cc7d5855443",
   "metadata": {},
   "outputs": [],
   "source": [
    "import jscatter\n",
    "import numpy as np\n",
    "import pandas as pd\n",
    "\n",
    "n = 1000\n",
    "\n",
    "x1, y1, g1 = np.random.normal(-1, 0.2, n), np.random.normal(+1, 0.05, n), np.repeat(1, n)\n",
    "x2, y2, g2 = np.random.normal(+1, 0.5, n), np.random.normal(+1, 0.15, n), np.repeat(2, n)\n",
    "x3, y3, g3 = np.random.normal(+1, 0.3, n), np.random.normal(-1, 0.33, n), np.repeat(3, n)\n",
    "x4, y4, g4 = np.random.normal(-1, 0.7, n), np.random.normal(-1, 0.25, n), np.repeat(4, n)\n",
    "\n",
    "df = pd.DataFrame({\n",
    "    'x': np.concatenate((x1, x2, x3, x4)),\n",
    "    'y': np.concatenate((y1, y2, y3, y4)),\n",
    "    'g': np.concatenate((g1, g2, g3, g4)),\n",
    "})\n",
    "df['g'] = df['g'].astype('category')\n",
    "\n",
    "scatter = jscatter.Scatter(\n",
    "    data=df,\n",
    "    x='x', x_scale=(-2, 2),\n",
    "    y='y', y_scale=(-2, 2),\n",
    "    color_by='g',\n",
    "    height=400,\n",
    ")"
   ]
  },
  {
   "cell_type": "markdown",
   "id": "9e6e18e4-cb4f-4bb5-b43a-0bca3d833748",
   "metadata": {},
   "source": [
    "Then we compute the convex hull of each cluster using SciPy's `ConvexHull` class and draw the hull as line annotations using Jupyter Scatter's `Line()` class.\n",
    "\n",
    "<div class=\"alert alert-block alert-info\">\n",
    "<b>Note:</b> You need to have at Jupyter Scatter &ge; <em>v0.18.0</em> installed for the following to work.\n",
    "</div>"
   ]
  },
  {
   "cell_type": "code",
   "execution_count": null,
   "id": "d67f6354-652e-4b16-94aa-8ae3933bb09d",
   "metadata": {},
   "outputs": [],
   "source": [
    "from scipy.spatial import ConvexHull\n",
    "\n",
    "cmap = scatter._color_map\n",
    "\n",
    "def get_hull_line(x, y, color):\n",
    "    points = np.hstack([np.expand_dims(x, axis=1), np.expand_dims(y, axis=1)])\n",
    "    vertices = ConvexHull(points).vertices.tolist()\n",
    "    vertices.append(vertices[0]) # We append the first vertex to close the line\n",
    "    return jscatter.Line([(x[v], y[v]) for v in vertices], line_color=color)\n",
    "\n",
    "hull1 = get_hull_line(x1, y1, cmap[0])\n",
    "hull2 = get_hull_line(x2, y2, cmap[1])\n",
    "hull3 = get_hull_line(x3, y3, cmap[2])\n",
    "hull4 = get_hull_line(x4, y4, cmap[3])\n",
    "\n",
    "scatter.annotations([hull1, hull2, hull3, hull4])\n",
    "\n",
    "scatter.show()"
   ]
  },
  {
   "cell_type": "markdown",
   "id": "93333a5e-7a83-431a-a8a6-660065ce47c5",
   "metadata": {},
   "source": [
    "## Cluster Contours\n",
    "\n",
    "To further emphasize the density of clusters, we can also draw [contour lines](https://en.wikipedia.org/wiki/Contour_line) using Jupyter Scatter's `Contour()` class.\n",
    "\n",
    "<div class=\"alert alert-block alert-info\">\n",
    "<b>Note:</b> You need to have at Jupyter Scatter &ge; <em>v0.19.0</em> installed for the following to work.\n",
    "</div>\n",
    "\n",
    "**🚨 Shout-out Alert:** Internally, Jupyter Scatter uses [Seaborn's wonderful `kdeplot()`](https://seaborn.pydata.org/generated/seaborn.kdeplot.html) that relies on [SciPy's Gaussian kernel-density estimation](https://docs.scipy.org/doc/scipy/reference/generated/scipy.stats.gaussian_kde.html#scipy.stats.gaussian_kde)."
   ]
  },
  {
   "cell_type": "code",
   "execution_count": null,
   "id": "62651693-ebda-4008-bc80-14488de9c331",
   "metadata": {},
   "outputs": [],
   "source": [
    "import seaborn as sns\n",
    "\n",
    "geyser = sns.load_dataset(\"geyser\")\n",
    "geyser.head(3)"
   ]
  },
  {
   "cell_type": "code",
   "execution_count": null,
   "id": "5a890f36-0e84-47c1-83b9-613bda806b4d",
   "metadata": {},
   "outputs": [],
   "source": [
    "scatter_geyser = jscatter.Scatter(\n",
    "    data=geyser,\n",
    "    x='waiting',\n",
    "    y='duration',\n",
    "    color_by='kind',\n",
    "    annotations=[jscatter.Contour(by='kind')],\n",
    "    size=5,\n",
    "    legend=True,\n",
    ")\n",
    "\n",
    "scatter_geyser.show()"
   ]
  },
  {
   "cell_type": "code",
   "execution_count": null,
   "id": "1ab99078-f6bf-4430-92cb-9cf79b545755",
   "metadata": {},
   "outputs": [],
   "source": []
  }
 ],
 "metadata": {
  "kernelspec": {
   "display_name": "Python 3 (ipykernel)",
   "language": "python",
   "name": "python3"
  },
  "language_info": {
   "codemirror_mode": {
    "name": "ipython",
    "version": 3
   },
   "file_extension": ".py",
   "mimetype": "text/x-python",
   "name": "python",
   "nbconvert_exporter": "python",
   "pygments_lexer": "ipython3",
   "version": "3.12.3"
  }
 },
 "nbformat": 4,
 "nbformat_minor": 5
}
