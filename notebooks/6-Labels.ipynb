{
 "cells": [
  {
   "cell_type": "markdown",
   "id": "494c5aa9-9b07-4ff8-ae1b-10161810fca5",
   "metadata": {},
   "source": [
    "# Text Labels\n",
    "\n",
    "In this notebook we're going to demonstrate how annotate and display points with text labels in Jupyter Scatter using three examples:\n",
    "1. Geospatial city dataset\n",
    "2. Single-cell embedding\n",
    "3. arXiv ML paper embedding\n",
    "\n",
    "> **NOTE:**\n",
    ">\n",
    "> In order to run this notebook you need to have Jupyter Scatter `v0.22.0` or higher installed."
   ]
  },
  {
   "cell_type": "code",
   "execution_count": null,
   "id": "b1226eda",
   "metadata": {},
   "outputs": [],
   "source": [
    "# If you run this notebook in Google Colab, you need to manually install the following packages.\n",
    "# !pip install --quiet jupyter-scatter"
   ]
  },
  {
   "cell_type": "markdown",
   "id": "205d9b1c-d7fc-40b0-9553-8c38df12889d",
   "metadata": {},
   "source": [
    "## Geospatial City Dataset\n",
    "\n",
    "For the first demo, we're going to load cities across the world from the [GeoNames dataset](https://www.geonames.org/about.html)."
   ]
  },
  {
   "cell_type": "code",
   "execution_count": null,
   "id": "d5b51e32-b52f-476c-abc5-4166db5e0c83",
   "metadata": {},
   "outputs": [],
   "source": [
    "!curl -L -C - -o data/cities.pq https://storage.googleapis.com/flekschas/jupyter-scatter-tutorial/cities.pq"
   ]
  },
  {
   "cell_type": "code",
   "execution_count": null,
   "id": "dbaa4767-f05b-4309-83bf-e20cf5d3dcbf",
   "metadata": {},
   "outputs": [],
   "source": [
    "import pandas as pd\n",
    "df_cities = pd.read_parquet('data/cities.pq')\n",
    "df_cities.head(3)"
   ]
  },
  {
   "cell_type": "markdown",
   "id": "759beec4-c4cc-417d-bd67-ff0189087da8",
   "metadata": {},
   "source": [
    "And we're going to label points by contintent. "
   ]
  },
  {
   "cell_type": "code",
   "execution_count": null,
   "id": "463cced9-b6a8-47ca-acb5-35f2d79e0b42",
   "metadata": {},
   "outputs": [],
   "source": [
    "from jscatter import Scatter\n",
    "\n",
    "# Basic scatter plot configuration that we're going to reuse a few times\n",
    "scatter_cities_base_config = dict(\n",
    "    data=df_cities,\n",
    "    x='Mercator X',\n",
    "    y='Mercator Y',\n",
    "    color_by='Continent',\n",
    "    size=2,\n",
    "    axes=False,\n",
    "    legend=True,\n",
    "    height=640,\n",
    ")\n",
    "\n",
    "scatter_cities = Scatter(**scatter_cities_base_config)\n",
    "\n",
    "# The column by which we want to label points\n",
    "scatter_cities.label(by='Continent')\n",
    "\n",
    "scatter_cities.show()"
   ]
  },
  {
   "cell_type": "markdown",
   "id": "1d438e58-f3c4-4e0e-ab54-36d7f75f75d8",
   "metadata": {},
   "source": [
    "We can customize the appearance of the text labels in various ways if we like:"
   ]
  },
  {
   "cell_type": "code",
   "execution_count": null,
   "id": "347bbb73-b34c-4678-ac83-3e31b1546f1c",
   "metadata": {},
   "outputs": [],
   "source": [
    "scatter_cities.label(\n",
    "    # For better visibility we're using a bold font\n",
    "    font='arial bold',\n",
    "    # Place labels at the center of mass of the largest\n",
    "    # cluster. This is useful when the labeled points\n",
    "    # correspond to multiple, disconnected clusters\n",
    "    positioning='largest_cluster',\n",
    "    # The inverse hyperbolic sine scale function that\n",
    "    # labels get enlarged sublinearly as you zoon in.\n",
    "    scale_function='asinh'\n",
    ")"
   ]
  },
  {
   "cell_type": "markdown",
   "id": "65ae8624-b28e-46e1-94f3-d9a652ab1137",
   "metadata": {},
   "source": [
    "While it's nice to see labels for the different continents, wouldn't it be even cooler to also see labels for the actual cities? Since there are more than 100k cities in the dataset, the static label placement can take a moment to compute. The good news is that we can do this computation upfront using the new `LabelPlacement` directly.\n",
    "\n",
    "A couple of notes:\n",
    "- To label points in multiple ways, we can simply pass multiple columns to `by`.\n",
    "- Since we want to treat each city name as a unique (i.e., point) label we need to append an exclamation mark to the column name. This is necessary as city names are not unique. For instance, there's a city called Berlin in Germany (the capital) and another city called Berlin in Massachusetts of the United States.\n",
    "- To enforce that continent labels are drawn before city labels, we can set `hierarchical` to `True`, which tells the labeler that the different label types form a strict hierarchy. Additionally, we change the importance aggregation to `\"sum\"` to ensure continents have higher importance than cities."
   ]
  },
  {
   "cell_type": "code",
   "execution_count": null,
   "id": "eb659917-a3a4-4a43-9d84-ad2580a4d826",
   "metadata": {},
   "outputs": [],
   "source": [
    "from jscatter import LabelPlacement, arial\n",
    "\n",
    "label_placement = LabelPlacement(\n",
    "    data=scatter_cities._data,\n",
    "    x=scatter_cities._x,\n",
    "    y=scatter_cities._y,\n",
    "    by=['Continent', 'Name!'],\n",
    "    importance='Population',\n",
    "    importance_aggregation='sum',\n",
    "    font=[arial.bold, arial.regular],\n",
    "    size=[24, 16],\n",
    "    tile_size=scatter_cities._height,\n",
    ")\n",
    "    \n",
    "label_placement.compute(show_progress=True)"
   ]
  },
  {
   "cell_type": "markdown",
   "id": "e2f40c84-95ae-487d-8400-3bea6f236124",
   "metadata": {},
   "source": [
    "Now all we have to do is to use the precomputed labels as follows. We also adjust the label alignment from `\"center\"` (default) to `\"top\"` to draw the label above their center position. This is useful for point labels as the label otherwise superimposes the point. We additionally add 2px negative y-offset."
   ]
  },
  {
   "cell_type": "code",
   "execution_count": null,
   "id": "1e527746-8d1e-49d2-a6cc-b2a31660adb8",
   "metadata": {},
   "outputs": [],
   "source": [
    "scatter_cities.label(using=label_placement, align='top', offset=(0,-2))"
   ]
  },
  {
   "cell_type": "markdown",
   "id": "064e0b55-ae9e-40e7-91ca-1202480d7226",
   "metadata": {},
   "source": [
    "If you're planning to use the label often, you can store them as two parquet files for faster re-use."
   ]
  },
  {
   "cell_type": "code",
   "execution_count": null,
   "id": "e10ad0f6-40ac-4422-ad31-f4a3ab6591be",
   "metadata": {},
   "outputs": [],
   "source": [
    "label_placement.to_parquet('data/cities')"
   ]
  },
  {
   "cell_type": "markdown",
   "id": "055ac097-8fd4-49f1-bd80-d96fdcb4878d",
   "metadata": {},
   "source": [
    "We can now use the precomputed labels to instantly create a new scatter plot with them."
   ]
  },
  {
   "cell_type": "code",
   "execution_count": null,
   "id": "a0516d8f-a474-476a-84a0-1df8f02fa49a",
   "metadata": {},
   "outputs": [],
   "source": [
    "from jscatter import Scatter, LabelPlacement\n",
    "\n",
    "label_placement_2 = LabelPlacement.from_parquet('data/cities')\n",
    "scatter_cities_2 = Scatter(**scatter_cities_base_config, label_using=label_placement_2)\n",
    "scatter_cities_2.show()"
   ]
  },
  {
   "cell_type": "markdown",
   "id": "02a7a25b-dcfb-4ac8-927f-11f1d161889c",
   "metadata": {},
   "source": [
    "## Single-Cell Embedding\n",
    "\n",
    "For the next demo, we're going to load a single-cell surface protein dataset from [Mair et al. (2022)](https://www.nature.com/articles/s41586-022-04718-w) that was clustered with [Greene et al.'s (2021) FAUST method](https://www.cell.com/patterns/fulltext/S2666-3899(21)00234-8) to derive cell populations and cell types and embeddded with t-SNE for visualization."
   ]
  },
  {
   "cell_type": "code",
   "execution_count": null,
   "id": "94e251b6-93fc-4b32-a08d-8036fefa858e",
   "metadata": {},
   "outputs": [],
   "source": [
    "!curl -L -C - -o data/mair-2022-tissue-138.pq https://storage.googleapis.com/flekschas/jupyter-scatter-tutorial/mair-2022-tissue-138.pq"
   ]
  },
  {
   "cell_type": "code",
   "execution_count": null,
   "id": "12e7f110-be65-40c7-92ed-d46d584ec6ab",
   "metadata": {},
   "outputs": [],
   "source": [
    "import pandas as pd\n",
    "df_single_cell = pd.read_parquet('./data/mair-2022-tissue-138.pq')\n",
    "df_single_cell.head(2)"
   ]
  },
  {
   "cell_type": "markdown",
   "id": "0cae934e-6a28-4b1f-b5d1-50ee94935f2e",
   "metadata": {},
   "source": [
    "For this example, we're going to label points by their cell (broader) type and phenotype. To better associate labels with points, we're going to color the labels by the point color.\n",
    "\n",
    "Also, sometimes you might not want to show all labels. For instance, in the following some cells are associated with an unspecified cell type or a non-robust phenotypes. To avoid showing a label for those classes, we're going to exclude the two labels (\"Other\" and \"Non-robust\")"
   ]
  },
  {
   "cell_type": "code",
   "execution_count": null,
   "id": "b417e46e-2e6d-4e43-8fd9-47b373916a38",
   "metadata": {},
   "outputs": [],
   "source": [
    "from itertools import cycle\n",
    "from jscatter import Scatter, glasbey_light, okabe_ito, brighten, saturate\n",
    "from traitlets import observe\n",
    "\n",
    "# Color map specifications\n",
    "non_protein_cols = ['x', 'y', 'cell_population', 'cell_type']\n",
    "protein_cols = [col for col in df_single_cell.columns if col not in non_protein_cols]\n",
    "\n",
    "cell_type_color_map = dict(zip(df_single_cell['cell_type'].unique(), cycle(okabe_ito[:7])))\n",
    "cell_type_color_map['Other'] = (0.2, 0.2, 0.2, 1.0)\n",
    "\n",
    "cell_population_color_map = dict(zip(df_single_cell['cell_population'].unique(), cycle(glasbey_light)))\n",
    "cell_population_color_map['Non-robust'] = (0.2, 0.2, 0.2, 1.0)\n",
    "\n",
    "label_color_map = {\n",
    "    **{f'cell_type:{cell_type}': brighten(saturate(color, 3 / 2), 2) for cell_type, color in cell_type_color_map.items()},\n",
    "    **{f'cell_population:{cell_pop}': brighten(saturate(color, 3 / 2), 2) for cell_pop, color in cell_population_color_map.items()}\n",
    "}\n",
    "\n",
    "# Scatter specifications\n",
    "scatter_single_cell = Scatter(\n",
    "    data=df_single_cell,\n",
    "    x='x',\n",
    "    y='y',\n",
    "    background_color='#111111',\n",
    "    axes=False,\n",
    "    height=720,\n",
    "    color_by='cell_type',\n",
    "    color_map=cell_type_color_map,\n",
    "    tooltip=True,\n",
    "    tooltip_properties=['cell_type', 'CD3', 'CD4', 'CD8', 'CD19', 'CD27', 'CD45RA'],\n",
    "    label_by=['cell_type', 'cell_population'],\n",
    "    label_hierarchical=True,\n",
    "    label_size={'cell_type': 36, 'cell_population': 12},\n",
    "    label_color=label_color_map,\n",
    "    label_positioning='largest_cluster',\n",
    "    # We are going to restrict the zoom level of the two label types such that\n",
    "    # broad cell types are shown at the beginning and fade out at level `2.25`\n",
    "    # and specific cell phentypes are allowed to appear at level `1.5` at up.\n",
    "    # Note that the zoom ranges can overlap as in this example.\n",
    "    label_zoom_range={'cell_type': (-float('inf'), 2.25), 'cell_population': (1.5, float('inf'))},\n",
    "    # To avoid showing a label for other cell types and non-robust cell phenotypes,\n",
    "    # we `exclude` those. Since we have two types of labels, we need to\n",
    "    # reference them their type: `cell_type:other` and `cell_population:Non-robust`.\n",
    "    label_exclude=['cell_type:Other', 'cell_population:Non-robust'],\n",
    "    # Since some cell phenotype labels are super long, we're going to break\n",
    "    # labels into multiple lines to optimize for a label aspect ratio of `5`.\n",
    "    label_target_aspect_ratio=5,\n",
    ")\n",
    "\n",
    "# At zoom level `1.5` we're going to switch the color map from broad cell types\n",
    "# to specific cell phenotypes to better identify phenotypes.\n",
    "def zoom_level_change_handler(change):\n",
    "    if change['new'] >= 1.5:\n",
    "        scatter_single_cell.color(by='cell_population', map=cell_population_color_map)\n",
    "    else:\n",
    "        scatter_single_cell.color(by='cell_type', map=cell_type_color_map)\n",
    "\n",
    "scatter_single_cell.widget.observe(zoom_level_change_handler, names='zoom_level')\n",
    "\n",
    "scatter_single_cell.show()"
   ]
  },
  {
   "cell_type": "markdown",
   "id": "571dafa6-2513-41e0-99b0-5196dc804133",
   "metadata": {},
   "source": [
    "Zoom in to see how more and more labels appear and the color automatically changes."
   ]
  },
  {
   "cell_type": "markdown",
   "id": "48243dc1-0861-4b88-bdb0-8312a07a05c6",
   "metadata": {},
   "source": [
    "# ML ArXiv Papers\n",
    "\n",
    "The following plot shows an embedding of machine learning papers from arXiv and is an [example from Leland McInnes's excellent DataMapPlot library](https://datamapplot.readthedocs.io/en/latest/interactive_intro.html). Huge kudos for sharing the data Leland 🙏."
   ]
  },
  {
   "cell_type": "code",
   "execution_count": null,
   "id": "e4ec6cef-56f8-4a12-bc50-17d566694a8c",
   "metadata": {},
   "outputs": [],
   "source": [
    "!curl -L -C - -o data/arxiv-ml.pq https://storage.googleapis.com/flekschas/jupyter-scatter-tutorial/arxiv-ml.pq"
   ]
  },
  {
   "cell_type": "code",
   "execution_count": null,
   "id": "41887071-e4b2-4a15-b0de-ece8cd6276a7",
   "metadata": {},
   "outputs": [],
   "source": [
    "import pandas as pd\n",
    "df_arxiv_ml = pd.read_parquet('data/arxiv-ml.pq')\n",
    "df_arxiv_ml.head(2)"
   ]
  },
  {
   "cell_type": "markdown",
   "id": "f82d8582-6446-4aeb-92c0-140c3d221ae6",
   "metadata": {},
   "source": [
    "### 2D Color Map\n",
    "\n",
    "Let us first create a color map for all categories using the fantastic Schumann color map from https://pypi.org/project/pycolormap-2d/. (In case you're wonderng, we had to integrate their library as it's not yet compatible with Numpy v2 sadly.)"
   ]
  },
  {
   "cell_type": "code",
   "execution_count": null,
   "id": "c80386fd-011e-4aae-b134-2b3a52e6aa22",
   "metadata": {},
   "outputs": [],
   "source": [
    "from jscatter import ColorMap2DSchumann, brighten, saturate\n",
    "from matplotlib.colors import to_hex\n",
    "\n",
    "cmap = ColorMap2DSchumann(\n",
    "    range_x=(df_arxiv_ml.x.min(), df_arxiv_ml.x.max()),\n",
    "    range_y=(df_arxiv_ml.y.min(), df_arxiv_ml.y.max()),\n",
    ")\n",
    "\n",
    "df_arxiv_ml_category_cmap = {}\n",
    "df_arxiv_ml_label_cmap = {}\n",
    "\n",
    "for i in range(1, 6):\n",
    "    label_type = f'category_{i}'\n",
    "    labels = df_arxiv_ml[label_type].dropna().unique()\n",
    "    for label in labels:\n",
    "        mask = df_arxiv_ml[label_type] == label\n",
    "        \n",
    "        cx = df_arxiv_ml[mask].x.median()\n",
    "        cy = df_arxiv_ml[mask].y.median()\n",
    "\n",
    "        color = to_hex(cmap(cx, cy) / 255)\n",
    "        \n",
    "        df_arxiv_ml_category_cmap[label] = color\n",
    "        df_arxiv_ml_label_cmap[f'{label_type}:{label}'] = brighten(saturate(color, 3), 3)\n",
    "\n",
    "# To color \"noise\" points (i.e., `NaN` values) using a dark gray, we cast `NaN` to `\"NA\"`\n",
    "if 'NA' not in df_arxiv_ml['category'].cat.categories.tolist():\n",
    "    df_arxiv_ml['category'] = df_arxiv_ml['category'].cat.add_categories('NA')\n",
    "df_arxiv_ml['category'] = df_arxiv_ml['category'].fillna('NA')\n",
    "\n",
    "df_arxiv_ml_category_cmap['NA'] = '#333333'"
   ]
  },
  {
   "cell_type": "markdown",
   "id": "c501ae4f-59e0-40a0-bb3d-2cabdb15a3b5",
   "metadata": {},
   "source": [
    "Next we're going to create a scatter plot as before. Since the labels are hierarchical, we're setting `hierarchical=True` to avoid showing category_1 label before category_2 labels, etc."
   ]
  },
  {
   "cell_type": "code",
   "execution_count": null,
   "id": "501a4fb4-8128-49c3-8ef8-674aedadd2a3",
   "metadata": {},
   "outputs": [],
   "source": [
    "from jscatter import Scatter\n",
    "\n",
    "arxiv_ml_scatter = Scatter(\n",
    "    data=df_arxiv_ml,\n",
    "    x='x',\n",
    "    y='y',\n",
    "    background_color='#111111',\n",
    "    axes=False,\n",
    "    height=720,\n",
    ")\n",
    "arxiv_ml_scatter.color(by='category', map=df_arxiv_ml_category_cmap)\n",
    "arxiv_ml_scatter.tooltip(\n",
    "    enable=True,\n",
    "    preview='title',\n",
    "    preview_type='text',\n",
    "    properties=[],\n",
    ")\n",
    "arxiv_ml_scatter.label(\n",
    "    by=['category_1', 'category_2', 'category_3', 'category_4', 'category_5'],\n",
    "    size=[24, 20, 16, 12, 10],\n",
    "    color=df_arxiv_ml_label_cmap,\n",
    "    scale_function='constant',\n",
    "    hierarchical=True,\n",
    "    target_aspect_ratio=2,\n",
    ")\n",
    "\n",
    "arxiv_ml_scatter.show()"
   ]
  },
  {
   "cell_type": "code",
   "execution_count": null,
   "id": "02afaf16-ed76-4bee-b43d-df21c1c9c22c",
   "metadata": {},
   "outputs": [],
   "source": []
  }
 ],
 "metadata": {
  "kernelspec": {
   "display_name": "Python 3 (ipykernel)",
   "language": "python",
   "name": "python3"
  },
  "language_info": {
   "codemirror_mode": {
    "name": "ipython",
    "version": 3
   },
   "file_extension": ".py",
   "mimetype": "text/x-python",
   "name": "python",
   "nbconvert_exporter": "python",
   "pygments_lexer": "ipython3",
   "version": "3.9.20"
  }
 },
 "nbformat": 4,
 "nbformat_minor": 5
}
