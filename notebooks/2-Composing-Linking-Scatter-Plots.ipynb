{
 "cells": [
  {
   "cell_type": "markdown",
   "id": "fec34920-0fbc-4b8c-b9b4-e52575bd11b9",
   "metadata": {},
   "source": [
    "# Composing and Linking Multiple Scatter Plots\n",
    "\n",
    "In this notebook, we'll learn:\n",
    "1. [About `jscatter`'s API for plotting multiple scatter plots](#API-for-Composing-Multiple-Scatter-Plots)\n",
    "2. [How to synchronize selections using Fashion MNIST embeddings](#Synchronizing-the-Selection-and-Hover)\n",
    "3. [How to synchronize views using LLM-based sentence embeddings](#Synchronizing-Views)\n",
    "\n",
    "---"
   ]
  },
  {
   "cell_type": "code",
   "execution_count": 9,
   "id": "8f59059a-925c-4584-a2d8-75b450da2400",
   "metadata": {},
   "outputs": [],
   "source": [
    "from jscatter import Scatter, compose, link"
   ]
  },
  {
   "cell_type": "markdown",
   "id": "3eec7b4a-b13e-46fd-9200-279154dfc64f",
   "metadata": {},
   "source": [
    "## API for Composing Multiple Scatter Plots\n",
    "\n",
    "We'll start out with a very simple example to get familiar with the API.\n",
    "\n",
    "In the following we'll compose two scatter plots next to each other using `jscatters.compose()`."
   ]
  },
  {
   "cell_type": "code",
   "execution_count": 20,
   "id": "1f5991d8-3bfa-4d5f-a184-f0d5bc573035",
   "metadata": {},
   "outputs": [
    {
     "data": {
      "application/vnd.jupyter.widget-view+json": {
       "model_id": "1fbb101cc1574fe8be01f4c105261b43",
       "version_major": 2,
       "version_minor": 0
      },
      "text/plain": [
       "GridBox(children=(HBox(children=(VBox(children=(Button(button_style='primary', icon='arrows', layout=Layout(wi…"
      ]
     },
     "execution_count": 20,
     "metadata": {},
     "output_type": "execute_result"
    }
   ],
   "source": [
    "from numpy.random import rand\n",
    "\n",
    "a = Scatter(x=rand(500), y=rand(500))\n",
    "b = Scatter(x=rand(5000), y=rand(5000))\n",
    "\n",
    "compose([a, b])"
   ]
  },
  {
   "cell_type": "markdown",
   "id": "bec7d3f2-3ade-47d5-a450-b4580323ea23",
   "metadata": {},
   "source": [
    "By default, `jscatter` arranges scatter plots into a single row but we can customize this of course."
   ]
  },
  {
   "cell_type": "code",
   "execution_count": 12,
   "id": "03db38e9-af0e-4533-b43d-65b984ec3f19",
   "metadata": {},
   "outputs": [
    {
     "data": {
      "application/vnd.jupyter.widget-view+json": {
       "model_id": "b9e8c2f1ee67477690d030e734028a06",
       "version_major": 2,
       "version_minor": 0
      },
      "text/plain": [
       "GridBox(children=(HBox(children=(VBox(children=(Button(button_style='primary', icon='arrows', layout=Layout(wi…"
      ]
     },
     "execution_count": 12,
     "metadata": {},
     "output_type": "execute_result"
    }
   ],
   "source": [
    "jscatter.compose([a, b], rows=2)"
   ]
  },
  {
   "cell_type": "markdown",
   "id": "7f3594f9-ebb4-4efd-8ce5-c443fcde436e",
   "metadata": {},
   "source": [
    "So good so far but the fun part starts when we link/synchronize the scatter plots' views and selections.\n",
    "\n",
    "## Synchronizing the Selection and Hover\n",
    "\n",
    "To demonstrate the usefulness of linked/synchronized selections, let's look at some more interesting data: multiple embeddings of the [Fashion MNIST dataset](https://github.com/zalandoresearch/fashion-mnist)."
   ]
  },
  {
   "cell_type": "code",
   "execution_count": 5,
   "id": "7162c714-8f1e-4f02-b183-dc8e307eee4b",
   "metadata": {},
   "outputs": [
    {
     "name": "stdout",
     "output_type": "stream",
     "text": [
      "** Resuming transfer from byte position 2696403\n",
      "  % Total    % Received % Xferd  Average Speed   Time    Time     Time  Current\n",
      "                                 Dload  Upload   Total   Spent    Left  Speed\n",
      "  0     0    0     0    0     0      0      0 --:--:-- --:--:-- --:--:--     0\n"
     ]
    }
   ],
   "source": [
    "!curl -L -C - -o data/fashion-mnist-embeddings.pq https://storage.googleapis.com/flekschas/jupyter-scatter-tutorial/fashion-mnist-embeddings.pq"
   ]
  },
  {
   "cell_type": "code",
   "execution_count": 32,
   "id": "823ede65-6bf9-4a74-bea1-b11c0b409e8e",
   "metadata": {},
   "outputs": [
    {
     "data": {
      "text/html": [
       "<div>\n",
       "<style scoped>\n",
       "    .dataframe tbody tr th:only-of-type {\n",
       "        vertical-align: middle;\n",
       "    }\n",
       "\n",
       "    .dataframe tbody tr th {\n",
       "        vertical-align: top;\n",
       "    }\n",
       "\n",
       "    .dataframe thead th {\n",
       "        text-align: right;\n",
       "    }\n",
       "</style>\n",
       "<table border=\"1\" class=\"dataframe\">\n",
       "  <thead>\n",
       "    <tr style=\"text-align: right;\">\n",
       "      <th></th>\n",
       "      <th>pcaX</th>\n",
       "      <th>pcaY</th>\n",
       "      <th>tsneX</th>\n",
       "      <th>tsneY</th>\n",
       "      <th>umapX</th>\n",
       "      <th>umapY</th>\n",
       "      <th>caeX</th>\n",
       "      <th>caeY</th>\n",
       "      <th>class</th>\n",
       "    </tr>\n",
       "  </thead>\n",
       "  <tbody>\n",
       "    <tr>\n",
       "      <th>0</th>\n",
       "      <td>-0.207672</td>\n",
       "      <td>0.619046</td>\n",
       "      <td>-0.512748</td>\n",
       "      <td>0.862887</td>\n",
       "      <td>-0.848567</td>\n",
       "      <td>-0.177148</td>\n",
       "      <td>-0.792607</td>\n",
       "      <td>-0.952340</td>\n",
       "      <td>Ankle boot</td>\n",
       "    </tr>\n",
       "    <tr>\n",
       "      <th>1</th>\n",
       "      <td>0.423870</td>\n",
       "      <td>-0.392556</td>\n",
       "      <td>0.556802</td>\n",
       "      <td>-0.625932</td>\n",
       "      <td>0.973414</td>\n",
       "      <td>-0.103313</td>\n",
       "      <td>-0.493724</td>\n",
       "      <td>-0.050538</td>\n",
       "      <td>T-shirt/top</td>\n",
       "    </tr>\n",
       "    <tr>\n",
       "      <th>2</th>\n",
       "      <td>-0.455815</td>\n",
       "      <td>-0.708062</td>\n",
       "      <td>-0.037304</td>\n",
       "      <td>-0.186733</td>\n",
       "      <td>0.463554</td>\n",
       "      <td>-0.061681</td>\n",
       "      <td>-0.372132</td>\n",
       "      <td>-0.272005</td>\n",
       "      <td>T-shirt/top</td>\n",
       "    </tr>\n",
       "  </tbody>\n",
       "</table>\n",
       "</div>"
      ],
      "text/plain": [
       "       pcaX      pcaY     tsneX     tsneY     umapX     umapY      caeX  \\\n",
       "0 -0.207672  0.619046 -0.512748  0.862887 -0.848567 -0.177148 -0.792607   \n",
       "1  0.423870 -0.392556  0.556802 -0.625932  0.973414 -0.103313 -0.493724   \n",
       "2 -0.455815 -0.708062 -0.037304 -0.186733  0.463554 -0.061681 -0.372132   \n",
       "\n",
       "       caeY        class  \n",
       "0 -0.952340   Ankle boot  \n",
       "1 -0.050538  T-shirt/top  \n",
       "2 -0.272005  T-shirt/top  "
      ]
     },
     "execution_count": 32,
     "metadata": {},
     "output_type": "execute_result"
    }
   ],
   "source": [
    "import pandas as pd\n",
    "fashion_mnist_embeddings = pd.read_parquet('data/fashion-mnist-embeddings.pq')\n",
    "fashion_mnist_embeddings = fashion_mnist_embeddings.replace({\"class\": {0: \"T-shirt/top\", 1: \"Trouser\", 2: \"Pullover\", 3: \"Dress\", 4: \"Coat\", 5: \"Sandal\", 6: \"Shirt\", 7: \"Sneaker\", 8: \"Bag\", 9: \"Ankle boot\"}}).astype('category')\n",
    "fashion_mnist_embeddings.head(3)"
   ]
  },
  {
   "cell_type": "markdown",
   "id": "4d5361bd-baf3-414c-b88e-46004d9a9c80",
   "metadata": {},
   "source": [
    "The dataframe contains pre-embedded x/y locations of each image and the associated class. For this example we embedded the images using:\n",
    "\n",
    "1. [PCA](https://scikit-learn.org/stable/modules/generated/sklearn.decomposition.PCA.html)\n",
    "2. [t-SNE](https://opentsne.readthedocs.io/en/stable/)\n",
    "3. [UMAP](https://umap-learn.readthedocs.io/en/latest/)\n",
    "4. [A convolutional autoencoder](https://blog.keras.io/building-autoencoders-in-keras.html)\n",
    "\n",
    "Since we're going to visualize each embedding using the same visual encoding, we can specify most things upfront:"
   ]
  },
  {
   "cell_type": "code",
   "execution_count": 26,
   "id": "fddf0dea-ef44-4604-b348-6081f11a6472",
   "metadata": {},
   "outputs": [],
   "source": [
    "config = dict(\n",
    "    background_color='#111111',\n",
    "    color_by='class',\n",
    "    color_map={\n",
    "        \"T-shirt/top\": '#FFFF00',\n",
    "        \"Trouser\": '#1CE6FF',\n",
    "        \"Pullover\": '#FF34FF',\n",
    "        \"Dress\": '#FF4A46',\n",
    "        \"Coat\": '#008941',\n",
    "        \"Sandal\": '#006FA6',\n",
    "        \"Shirt\": '#A30059',\n",
    "        \"Sneaker\": '#FFDBE5',\n",
    "        \"Bag\": '#7A4900',\n",
    "        \"Ankle boot\": '#0000A6'\n",
    "    },\n",
    "    legend=True,\n",
    "    axes=False,\n",
    "    zoom_on_selection=True, # To automatically zoom to selected points\n",
    ")"
   ]
  },
  {
   "cell_type": "markdown",
   "id": "9a6fc25e-e2e1-4c7a-b406-1cdb79b37ff7",
   "metadata": {},
   "source": [
    "Finally, we need to create four `jscatter` instances and compose them in a 2x2 grid. This time however, we're going to link/synchronize the selection and point hovering across all four instances because each scatter plot references the same images from Fashion MNIST."
   ]
  },
  {
   "cell_type": "code",
   "execution_count": 27,
   "id": "f44e21c5-fb11-42a9-964d-28f3a8d682d2",
   "metadata": {},
   "outputs": [
    {
     "data": {
      "application/vnd.jupyter.widget-view+json": {
       "model_id": "fba5000246b1412b8250a93f15e4f140",
       "version_major": 2,
       "version_minor": 0
      },
      "text/plain": [
       "GridBox(children=(HBox(children=(VBox(children=(Button(button_style='primary', icon='arrows', layout=Layout(wi…"
      ]
     },
     "execution_count": 27,
     "metadata": {},
     "output_type": "execute_result"
    }
   ],
   "source": [
    "pca = Scatter(data=fashion_mnist_embeddings, x='pcaX', y='pcaY', **config)\n",
    "tsne = Scatter(data=fashion_mnist_embeddings, x='tsneX', y='tsneY', **config)\n",
    "umap = Scatter(data=fashion_mnist_embeddings, x='umapX', y='umapY', **config)\n",
    "cae = Scatter(data=fashion_mnist_embeddings, x='caeX', y='caeY', **config)\n",
    "\n",
    "compose(\n",
    "    [pca, tsne, umap, cae],\n",
    "    sync_selection=True,\n",
    "    sync_hover=True,\n",
    "    rows=2,\n",
    "    row_height=240\n",
    ")"
   ]
  },
  {
   "cell_type": "markdown",
   "id": "8f9687a0-5dda-4c41-bca0-302686ce23ff",
   "metadata": {},
   "source": [
    "Because I like to see the selected points within their local neighborhood, I activated `zoom_on_selection`. In combination with the synced selection, this makes all scatter plots automatically zoom to selected points.\n",
    "\n",
    "## Synchronizing Views\n",
    "\n",
    "Beyond synchronizing the selection, `jscatter` also supports view synchronization. However, it does not make much sense to activate this for the above Fashion MNIST example because each scatter plots drew a different embedding space. However, we might want to explore a large dataset where all points share the same latent space. In this case it can be interesting to facet the dataset to for comparison. And since the space is the same, it can be useful to synchronize the view.\n",
    "\n",
    "> 🚨 LLM Alert\n",
    "\n",
    "In the next example we're going to compare news articles from 2012-2022 by their title. For that we're using the fantastic [News Category Dataset](https://www.kaggle.com/datasets/rmisra/news-category-dataset?resource=download) from [Rishabh Misra, 2022](https://arxiv.org/abs/2209.11429). We embedded the titles, abstract, and both using a combination of the pretrained [all-MiniLM-L6-v2 sentence transformer from 🤗](https://huggingface.co/sentence-transformers/all-MiniLM-L6-v2) and [UMAP](https://umap-learn.readthedocs.io/en/latest/)."
   ]
  },
  {
   "cell_type": "code",
   "execution_count": null,
   "id": "37781a24-a5ca-4386-a931-c091dcd225e8",
   "metadata": {},
   "outputs": [],
   "source": [
    "!curl -L -C - -o data/huffpost-embeddings.pq https://storage.googleapis.com/flekschas/jupyter-scatter-tutorial/huffpost-embeddings.pq"
   ]
  },
  {
   "cell_type": "code",
   "execution_count": 6,
   "id": "2a5ce07a-e827-4636-8e91-17d022c3487e",
   "metadata": {},
   "outputs": [
    {
     "data": {
      "text/html": [
       "<div>\n",
       "<style scoped>\n",
       "    .dataframe tbody tr th:only-of-type {\n",
       "        vertical-align: middle;\n",
       "    }\n",
       "\n",
       "    .dataframe tbody tr th {\n",
       "        vertical-align: top;\n",
       "    }\n",
       "\n",
       "    .dataframe thead th {\n",
       "        text-align: right;\n",
       "    }\n",
       "</style>\n",
       "<table border=\"1\" class=\"dataframe\">\n",
       "  <thead>\n",
       "    <tr style=\"text-align: right;\">\n",
       "      <th></th>\n",
       "      <th>link</th>\n",
       "      <th>headline</th>\n",
       "      <th>category</th>\n",
       "      <th>short_description</th>\n",
       "      <th>authors</th>\n",
       "      <th>date</th>\n",
       "      <th>year</th>\n",
       "      <th>month</th>\n",
       "      <th>season</th>\n",
       "      <th>umap_headlines_x</th>\n",
       "      <th>umap_headlines_y</th>\n",
       "      <th>umap_short_descriptions_x</th>\n",
       "      <th>umap_short_descriptions_y</th>\n",
       "      <th>umap_combined_x</th>\n",
       "      <th>umap_combined_y</th>\n",
       "    </tr>\n",
       "  </thead>\n",
       "  <tbody>\n",
       "    <tr>\n",
       "      <th>0</th>\n",
       "      <td>https://www.huffpost.com/entry/covid-boosters-...</td>\n",
       "      <td>Over 4 Million Americans Roll Up Sleeves For O...</td>\n",
       "      <td>U.S. NEWS</td>\n",
       "      <td>Health experts said it is too early to predict...</td>\n",
       "      <td>Carla K. Johnson, AP</td>\n",
       "      <td>2022-09-23</td>\n",
       "      <td>2022</td>\n",
       "      <td>September</td>\n",
       "      <td>Fall</td>\n",
       "      <td>3.966085</td>\n",
       "      <td>0.465991</td>\n",
       "      <td>-1.865270</td>\n",
       "      <td>5.458853</td>\n",
       "      <td>-1.920846</td>\n",
       "      <td>5.376357</td>\n",
       "    </tr>\n",
       "    <tr>\n",
       "      <th>1</th>\n",
       "      <td>https://www.huffpost.com/entry/american-airlin...</td>\n",
       "      <td>American Airlines Flyer Charged, Banned For Li...</td>\n",
       "      <td>U.S. NEWS</td>\n",
       "      <td>He was subdued by passengers and crew when he ...</td>\n",
       "      <td>Mary Papenfuss</td>\n",
       "      <td>2022-09-23</td>\n",
       "      <td>2022</td>\n",
       "      <td>September</td>\n",
       "      <td>Fall</td>\n",
       "      <td>3.325465</td>\n",
       "      <td>4.053137</td>\n",
       "      <td>0.673807</td>\n",
       "      <td>7.048808</td>\n",
       "      <td>0.350905</td>\n",
       "      <td>7.271127</td>\n",
       "    </tr>\n",
       "    <tr>\n",
       "      <th>2</th>\n",
       "      <td>https://www.huffpost.com/entry/funniest-tweets...</td>\n",
       "      <td>23 Of The Funniest Tweets About Cats And Dogs ...</td>\n",
       "      <td>COMEDY</td>\n",
       "      <td>\"Until you have a dog you don't understand wha...</td>\n",
       "      <td>Elyse Wanshel</td>\n",
       "      <td>2022-09-23</td>\n",
       "      <td>2022</td>\n",
       "      <td>September</td>\n",
       "      <td>Fall</td>\n",
       "      <td>10.177062</td>\n",
       "      <td>5.699961</td>\n",
       "      <td>3.140072</td>\n",
       "      <td>5.262107</td>\n",
       "      <td>2.455263</td>\n",
       "      <td>4.685835</td>\n",
       "    </tr>\n",
       "  </tbody>\n",
       "</table>\n",
       "</div>"
      ],
      "text/plain": [
       "                                                link  \\\n",
       "0  https://www.huffpost.com/entry/covid-boosters-...   \n",
       "1  https://www.huffpost.com/entry/american-airlin...   \n",
       "2  https://www.huffpost.com/entry/funniest-tweets...   \n",
       "\n",
       "                                            headline   category  \\\n",
       "0  Over 4 Million Americans Roll Up Sleeves For O...  U.S. NEWS   \n",
       "1  American Airlines Flyer Charged, Banned For Li...  U.S. NEWS   \n",
       "2  23 Of The Funniest Tweets About Cats And Dogs ...     COMEDY   \n",
       "\n",
       "                                   short_description               authors  \\\n",
       "0  Health experts said it is too early to predict...  Carla K. Johnson, AP   \n",
       "1  He was subdued by passengers and crew when he ...        Mary Papenfuss   \n",
       "2  \"Until you have a dog you don't understand wha...         Elyse Wanshel   \n",
       "\n",
       "         date  year      month season  umap_headlines_x  umap_headlines_y  \\\n",
       "0  2022-09-23  2022  September   Fall          3.966085          0.465991   \n",
       "1  2022-09-23  2022  September   Fall          3.325465          4.053137   \n",
       "2  2022-09-23  2022  September   Fall         10.177062          5.699961   \n",
       "\n",
       "   umap_short_descriptions_x  umap_short_descriptions_y  umap_combined_x  \\\n",
       "0                  -1.865270                   5.458853        -1.920846   \n",
       "1                   0.673807                   7.048808         0.350905   \n",
       "2                   3.140072                   5.262107         2.455263   \n",
       "\n",
       "   umap_combined_y  \n",
       "0         5.376357  \n",
       "1         7.271127  \n",
       "2         4.685835  "
      ]
     },
     "execution_count": 6,
     "metadata": {},
     "output_type": "execute_result"
    }
   ],
   "source": [
    "import pandas as pd\n",
    "huffpost_embeddings = pd.read_parquet('data/huffpost-embeddings.pq')\n",
    "huffpost_embeddings.head(3)"
   ]
  },
  {
   "cell_type": "code",
   "execution_count": 7,
   "id": "67a7aa17-2517-4d71-9cd9-0660391740ad",
   "metadata": {},
   "outputs": [],
   "source": [
    "from jscatter import glasbey_light\n",
    "\n",
    "category_cmap = { cat: glasbey_light[i] for i, cat in enumerate(huffpost_embeddings.category.unique()) }\n",
    "\n",
    "huffpost_scatter_config = dict(axes=False, background_color='#111111')"
   ]
  },
  {
   "cell_type": "code",
   "execution_count": 28,
   "id": "69f67600-6635-4514-af35-8631e3b71715",
   "metadata": {},
   "outputs": [
    {
     "data": {
      "application/vnd.jupyter.widget-view+json": {
       "model_id": "bef7e605f6554ebba92fa352197292f0",
       "version_major": 2,
       "version_minor": 0
      },
      "text/plain": [
       "HBox(children=(VBox(children=(Button(button_style='primary', icon='arrows', layout=Layout(width='36px'), style…"
      ]
     },
     "execution_count": 28,
     "metadata": {},
     "output_type": "execute_result"
    }
   ],
   "source": [
    "huffpost_scatter = Scatter(\n",
    "    data=huffpost_embeddings,\n",
    "    x='umap_headlines_x',\n",
    "    y='umap_headlines_y',\n",
    "    color_by='category',\n",
    "    color_map=category_cmap,\n",
    "    height=640,\n",
    "    legend=True,\n",
    "    **huffpost_scatter_config\n",
    ")\n",
    "huffpost_scatter.show()"
   ]
  },
  {
   "cell_type": "markdown",
   "id": "c8e55325-7747-4277-9a8b-fbc43501d726",
   "metadata": {},
   "source": [
    "As mentioned above, this dataset consists of news articles from 2012 – 2022. An intersting question is, whether the distribution of published articles has changed over the years. To achieve this we're going to facet the data frame by year and plot each year as an individual scatter."
   ]
  },
  {
   "cell_type": "code",
   "execution_count": 36,
   "id": "4db93e68-345b-4102-9496-9cd0ee66fb4c",
   "metadata": {},
   "outputs": [
    {
     "data": {
      "application/vnd.jupyter.widget-view+json": {
       "model_id": "fa5ab615cc4a4cf0adfeb25c7e205a98",
       "version_major": 2,
       "version_minor": 0
      },
      "text/plain": [
       "GridBox(children=(HBox(children=(VBox(children=(Button(button_style='primary', icon='arrows', layout=Layout(wi…"
      ]
     },
     "execution_count": 36,
     "metadata": {},
     "output_type": "execute_result"
    }
   ],
   "source": [
    "def create_annual_scatter(year):\n",
    "    return Scatter(\n",
    "        data=huffpost_embeddings_years[year],\n",
    "        x='umap_headlines_x',\n",
    "        y='umap_headlines_y',\n",
    "        color_by='category',\n",
    "        color_map=category_cmap,\n",
    "        **huffpost_scatter_config\n",
    "    )\n",
    "\n",
    "years = sorted(huffpost_embeddings.year.unique())\n",
    "\n",
    "huffpost_embeddings_years = {\n",
    "    year: huffpost_embeddings[huffpost_embeddings.year == year] for year in years\n",
    "}\n",
    "\n",
    "huffpost_scatters_years = {\n",
    "    year: create_annual_scatter(year) for year in years\n",
    "}\n",
    "\n",
    "compose(huffpost_scatters_years.values(), sync_view=True, rows=3, cols=4, row_height=320)"
   ]
  },
  {
   "cell_type": "code",
   "execution_count": 38,
   "id": "c64f89b0-0dae-40ac-9f3b-b5ef2ce7ca1a",
   "metadata": {},
   "outputs": [
    {
     "data": {
      "text/html": [
       "<div>\n",
       "<style scoped>\n",
       "    .dataframe tbody tr th:only-of-type {\n",
       "        vertical-align: middle;\n",
       "    }\n",
       "\n",
       "    .dataframe tbody tr th {\n",
       "        vertical-align: top;\n",
       "    }\n",
       "\n",
       "    .dataframe thead th {\n",
       "        text-align: right;\n",
       "    }\n",
       "</style>\n",
       "<table border=\"1\" class=\"dataframe\">\n",
       "  <thead>\n",
       "    <tr style=\"text-align: right;\">\n",
       "      <th></th>\n",
       "      <th>link</th>\n",
       "      <th>headline</th>\n",
       "      <th>category</th>\n",
       "      <th>short_description</th>\n",
       "      <th>authors</th>\n",
       "      <th>date</th>\n",
       "      <th>year</th>\n",
       "      <th>month</th>\n",
       "      <th>season</th>\n",
       "      <th>umap_headlines_x</th>\n",
       "      <th>umap_headlines_y</th>\n",
       "      <th>umap_short_descriptions_x</th>\n",
       "      <th>umap_short_descriptions_y</th>\n",
       "      <th>umap_combined_x</th>\n",
       "      <th>umap_combined_y</th>\n",
       "    </tr>\n",
       "  </thead>\n",
       "  <tbody>\n",
       "    <tr>\n",
       "      <th>184608</th>\n",
       "      <td>https://www.huffingtonpost.comhttp://vitals.nb...</td>\n",
       "      <td>Extra Pounds May Put You In The Hospital, Stud...</td>\n",
       "      <td>WELLNESS</td>\n",
       "      <td>Regardless of lifestyle and other health-relat...</td>\n",
       "      <td></td>\n",
       "      <td>2012-10-22</td>\n",
       "      <td>2012</td>\n",
       "      <td>October</td>\n",
       "      <td>Fall</td>\n",
       "      <td>8.070447</td>\n",
       "      <td>1.427714</td>\n",
       "      <td>-1.274007</td>\n",
       "      <td>2.001766</td>\n",
       "      <td>-1.355832</td>\n",
       "      <td>1.925894</td>\n",
       "    </tr>\n",
       "  </tbody>\n",
       "</table>\n",
       "</div>"
      ],
      "text/plain": [
       "                                                     link  \\\n",
       "184608  https://www.huffingtonpost.comhttp://vitals.nb...   \n",
       "\n",
       "                                                 headline  category  \\\n",
       "184608  Extra Pounds May Put You In The Hospital, Stud...  WELLNESS   \n",
       "\n",
       "                                        short_description authors        date  \\\n",
       "184608  Regardless of lifestyle and other health-relat...          2012-10-22   \n",
       "\n",
       "        year    month season  umap_headlines_x  umap_headlines_y  \\\n",
       "184608  2012  October   Fall          8.070447          1.427714   \n",
       "\n",
       "        umap_short_descriptions_x  umap_short_descriptions_y  umap_combined_x  \\\n",
       "184608                  -1.274007                   2.001766        -1.355832   \n",
       "\n",
       "        umap_combined_y  \n",
       "184608         1.925894  "
      ]
     },
     "execution_count": 38,
     "metadata": {},
     "output_type": "execute_result"
    }
   ],
   "source": [
    "huffpost_embeddings_years['2012'].iloc[huffpost_scatters_years['2012'].selection()]"
   ]
  },
  {
   "cell_type": "markdown",
   "id": "ad658073-642f-4864-ac11-c94e3ac9a3c1",
   "metadata": {},
   "source": [
    "---\n",
    "\n",
    "## Next\n",
    "\n",
    "Next up, we'll how to use everything we've learned so far and build bespoke interfaces for exploring large-scale datasets starting with the LLM-based news article dataset we just explored.\n",
    "\n",
    "➡️ [Building a Bespoke Interface for Exploring LLM-Based Sentence Embeddings.ipynb](3-LLM-Sentence-Embedding.ipynb)"
   ]
  },
  {
   "cell_type": "code",
   "execution_count": null,
   "id": "e8826d39-0f7f-42f8-b30f-89c55fe6ef99",
   "metadata": {},
   "outputs": [],
   "source": []
  }
 ],
 "metadata": {
  "kernelspec": {
   "display_name": "Python 3 (ipykernel)",
   "language": "python",
   "name": "python3"
  },
  "language_info": {
   "codemirror_mode": {
    "name": "ipython",
    "version": 3
   },
   "file_extension": ".py",
   "mimetype": "text/x-python",
   "name": "python",
   "nbconvert_exporter": "python",
   "pygments_lexer": "ipython3",
   "version": "3.10.9"
  }
 },
 "nbformat": 4,
 "nbformat_minor": 5
}
