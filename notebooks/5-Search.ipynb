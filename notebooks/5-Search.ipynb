{
 "cells": [
  {
   "cell_type": "markdown",
   "id": "a2d8a682-c7e7-4d65-aafe-9dc5b1977b97",
   "metadata": {},
   "source": [
    "# Text-Based Point Search\n",
    "\n",
    "In this notebook we're going to learn how we can easily add a search bar to Jupyter Scatter. To demonstrate this, let's look at cities across the world using the [GeoNames](https://www.geonames.org/about.html) dataset. The search bar will allow us to find and select cities by name."
   ]
  },
  {
   "cell_type": "code",
   "execution_count": null,
   "id": "ddf1a505-b4b4-4000-adf1-2ce36a24e0cd",
   "metadata": {},
   "outputs": [],
   "source": [
    "# If you run this notebook in Google Colab, you need to manually install the following packages.\n",
    "# !pip install --quiet jupyter-scatter"
   ]
  },
  {
   "cell_type": "code",
   "execution_count": null,
   "id": "aef34fff-62dd-4ed3-82f1-8d015c300576",
   "metadata": {},
   "outputs": [],
   "source": [
    "!curl -L -C - -o data/cities.pq https://storage.googleapis.com/flekschas/jupyter-scatter-tutorial/cities.pq"
   ]
  },
  {
   "cell_type": "code",
   "execution_count": null,
   "id": "e93e1cea-74bd-4f16-b66c-1fa6a200c9dc",
   "metadata": {},
   "outputs": [],
   "source": [
    "import pandas as pd\n",
    "cities = pd.read_parquet('data/cities.pq')\n",
    "cities.head(3)"
   ]
  },
  {
   "cell_type": "markdown",
   "id": "1b04ba9b-06bf-4b65-bc22-312ad96ce239",
   "metadata": {},
   "source": [
    "The key ingredients here are:\n",
    "1. `ipywidgets.Text` to allow us to enter a city name\n",
    "2. Pandas DataFrame's `query()` method to find cities by name\n",
    "3. `scatter.selection()` to select cities\n",
    "4. `scatter.zoom()` to zoom to selected points\n",
    "\n",
    "Finally, all we have to do is to observe changes to search box and and call the above mentioned functions."
   ]
  },
  {
   "cell_type": "code",
   "execution_count": null,
   "id": "dbdea0ec-2dc7-4b42-b0ed-cc5140a1e70c",
   "metadata": {},
   "outputs": [],
   "source": [
    "import ipywidgets\n",
    "import jscatter\n",
    "\n",
    "scatter = jscatter.Scatter(data=cities, x='Mercator X', y='Mercator Y')\n",
    "scatter.color(by='Continent').size(2).axes(False).legend(True).height(640)\n",
    "\n",
    "searchbox = ipywidgets.Text(\n",
    "    value='',\n",
    "    placeholder='Search by city name',\n",
    "    description='Search:',\n",
    "    disabled=False   \n",
    ")\n",
    "\n",
    "def search_change_handler(change):\n",
    "    if change['new']:\n",
    "        city_idxs = cities.query(f'Name == \"{change['new']}\"').index\n",
    "        scatter.selection(city_idxs)\n",
    "        scatter.zoom(to=city_idxs, animation=500, padding=0.5)\n",
    "    else:\n",
    "        scatter.selection(None)\n",
    "        scatter.zoom(to=None, animation=500, padding=0)\n",
    "\n",
    "searchbox.observe(search_change_handler, names=['value'])\n",
    "\n",
    "ipywidgets.VBox([searchbox, scatter.show()])"
   ]
  },
  {
   "cell_type": "markdown",
   "id": "11e60cfc-69a8-4054-b107-55a22fddcc57",
   "metadata": {},
   "source": [
    "The beauty of this approach is that you search across any column in the data frame. For instance, in the following example we enhanced the search to allow:\n",
    "- Searching by population via `n:<number>` or `n:<number>-<number>`. E.g., `n:1000000-10000000` will select all cities with a population between 1 to 10 million.\n",
    "- Searching by continent. E.g., `Australia` will select all cities in Australia"
   ]
  },
  {
   "cell_type": "code",
   "execution_count": null,
   "id": "4b678651-c3ba-44a4-a287-08796ab741ac",
   "metadata": {},
   "outputs": [],
   "source": [
    "import ipywidgets\n",
    "import jscatter\n",
    "\n",
    "scatter2 = jscatter.Scatter(data=cities, x='Mercator X', y='Mercator Y')\n",
    "scatter2.color(by='Continent').size(2).axes(False).legend(True).height(640)\n",
    "\n",
    "searchbox = ipywidgets.Text(\n",
    "    value='',\n",
    "    placeholder='Search by city name',\n",
    "    description='Search:',\n",
    "    disabled=False   \n",
    ")\n",
    "\n",
    "def search_change_handler(change):\n",
    "    if change['new']:\n",
    "        if change['new'] in cities.Continent.unique():\n",
    "            city_idxs = cities.query(f'Continent == \"{change['new']}\"').index\n",
    "        elif change['new'].startswith('n:'):\n",
    "            if '-' in change['new']:\n",
    "                n1, n2 = change['new'][2:].split('-')\n",
    "                city_idxs = cities.query(f'Population >= {n1} and Population <= {n2}').index\n",
    "            else:\n",
    "                city_idxs = cities.query(f'Population == {change['new'][2:]}').index\n",
    "        else:\n",
    "            city_idxs = cities.query(f'Name == \"{change['new']}\"').index\n",
    "        scatter2.selection(city_idxs)\n",
    "        scatter2.zoom(to=city_idxs, animation=500, padding=0.5)\n",
    "    else:\n",
    "        scatter2.selection(None)\n",
    "        scatter2.zoom(to=None, animation=500, padding=0)\n",
    "\n",
    "searchbox.observe(search_change_handler, names=['value'])\n",
    "\n",
    "ipywidgets.VBox([searchbox, scatter2.show()])"
   ]
  },
  {
   "cell_type": "markdown",
   "id": "a409dfd3-520d-479d-a9ec-5dbdd4a6cecc",
   "metadata": {},
   "source": [
    "As usual, you can get at the data records of the selected cities as follows:"
   ]
  },
  {
   "cell_type": "code",
   "execution_count": null,
   "id": "a53099cd-492f-495b-8f5e-63e16416dc11",
   "metadata": {},
   "outputs": [],
   "source": [
    "cities.iloc[scatter2.selection()]"
   ]
  },
  {
   "cell_type": "code",
   "execution_count": null,
   "id": "bb3973ad-d8fd-428d-aedf-2636d28a0980",
   "metadata": {},
   "outputs": [],
   "source": []
  },
  {
   "cell_type": "code",
   "execution_count": null,
   "id": "834e2354-497b-448b-b1f2-6c0815ca3a4f",
   "metadata": {},
   "outputs": [],
   "source": []
  }
 ],
 "metadata": {
  "kernelspec": {
   "display_name": "Python 3 (ipykernel)",
   "language": "python",
   "name": "python3"
  },
  "language_info": {
   "codemirror_mode": {
    "name": "ipython",
    "version": 3
   },
   "file_extension": ".py",
   "mimetype": "text/x-python",
   "name": "python",
   "nbconvert_exporter": "python",
   "pygments_lexer": "ipython3",
   "version": "3.12.3"
  }
 },
 "nbformat": 4,
 "nbformat_minor": 5
}
