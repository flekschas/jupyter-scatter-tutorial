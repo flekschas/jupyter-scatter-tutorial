{
 "cells": [
  {
   "cell_type": "markdown",
   "id": "0b4ef924-a9b6-4629-a03d-d7bf057c74ea",
   "metadata": {},
   "source": [
    "# Exploring Fashion MNIST\n",
    "\n",
    "In the this notebook we're going to show an example of how one can build bespoke a interface for exploring the [Fashion MNIST dataset](https://github.com/zalandoresearch/fashion-mnist) embeddings that we looked at in [2-Composing-Linking-Scatter-Plots.ipynb](#Synchronizing-the-Selection-and-Hover). With `jscatter` alone we can easily select points and sychronize the selection across all four embeddings. While this is great but in order to better understand point clusters it'd be great know what the images they represent. `jscatter` does not support this out of the box but you can easily build an interface that supports this using [traitlets](https://traitlets.readthedocs.io/), [ipywidgets](https://ipywidgets.readthedocs.io/), and [anywidget](https://anywidget.dev/).\n",
    "\n",
    "> 🚨 Shout-out Alert\n",
    "\n",
    "Another shout-out to the marvelous [Trevor Manz](https://trevorma.nz/) for creating [anywidget](https://anywidget.dev/), which makes it super easy to build custom ipywidgets. Fun fact: `jscatter` itself is implemented as an [anywidget](https://anywidget.dev/).\n",
    "\n",
    "---"
   ]
  },
  {
   "cell_type": "markdown",
   "id": "9f7db2d1-abe2-412c-8b84-6d85bf1edf57",
   "metadata": {},
   "source": [
    "## Setup Data & Scatter Plot Config\n",
    "\n",
    "This is the same as from [2-Composing-Linking-Scatter-Plots.ipynb](#Synchronizing-the-Selection-and-Hover)"
   ]
  },
  {
   "cell_type": "code",
   "execution_count": 1,
   "id": "27924244-4d05-46d9-8988-b06fdc9bd055",
   "metadata": {},
   "outputs": [
    {
     "name": "stdout",
     "output_type": "stream",
     "text": [
      "** Resuming transfer from byte position 2696403\n",
      "  % Total    % Received % Xferd  Average Speed   Time    Time     Time  Current\n",
      "                                 Dload  Upload   Total   Spent    Left  Speed\n",
      "100   170  100   170    0     0    352      0 --:--:-- --:--:-- --:--:--   354\n"
     ]
    }
   ],
   "source": [
    "!curl -L -C - -o data/fashion-mnist-embeddings.pq https://storage.googleapis.com/flekschas/jupyter-scatter-tutorial/fashion-mnist-embeddings.pq"
   ]
  },
  {
   "cell_type": "code",
   "execution_count": 2,
   "id": "99bef601-e993-4414-b778-9c139e48085f",
   "metadata": {},
   "outputs": [
    {
     "data": {
      "text/html": [
       "<div>\n",
       "<style scoped>\n",
       "    .dataframe tbody tr th:only-of-type {\n",
       "        vertical-align: middle;\n",
       "    }\n",
       "\n",
       "    .dataframe tbody tr th {\n",
       "        vertical-align: top;\n",
       "    }\n",
       "\n",
       "    .dataframe thead th {\n",
       "        text-align: right;\n",
       "    }\n",
       "</style>\n",
       "<table border=\"1\" class=\"dataframe\">\n",
       "  <thead>\n",
       "    <tr style=\"text-align: right;\">\n",
       "      <th></th>\n",
       "      <th>pcaX</th>\n",
       "      <th>pcaY</th>\n",
       "      <th>tsneX</th>\n",
       "      <th>tsneY</th>\n",
       "      <th>umapX</th>\n",
       "      <th>umapY</th>\n",
       "      <th>caeX</th>\n",
       "      <th>caeY</th>\n",
       "      <th>class</th>\n",
       "    </tr>\n",
       "  </thead>\n",
       "  <tbody>\n",
       "    <tr>\n",
       "      <th>0</th>\n",
       "      <td>-0.207672</td>\n",
       "      <td>0.619046</td>\n",
       "      <td>-0.512748</td>\n",
       "      <td>0.862887</td>\n",
       "      <td>-0.848567</td>\n",
       "      <td>-0.177148</td>\n",
       "      <td>-0.792607</td>\n",
       "      <td>-0.952340</td>\n",
       "      <td>Ankle boot</td>\n",
       "    </tr>\n",
       "    <tr>\n",
       "      <th>1</th>\n",
       "      <td>0.423870</td>\n",
       "      <td>-0.392556</td>\n",
       "      <td>0.556802</td>\n",
       "      <td>-0.625932</td>\n",
       "      <td>0.973414</td>\n",
       "      <td>-0.103313</td>\n",
       "      <td>-0.493724</td>\n",
       "      <td>-0.050538</td>\n",
       "      <td>T-shirt/top</td>\n",
       "    </tr>\n",
       "    <tr>\n",
       "      <th>2</th>\n",
       "      <td>-0.455815</td>\n",
       "      <td>-0.708062</td>\n",
       "      <td>-0.037304</td>\n",
       "      <td>-0.186733</td>\n",
       "      <td>0.463554</td>\n",
       "      <td>-0.061681</td>\n",
       "      <td>-0.372132</td>\n",
       "      <td>-0.272005</td>\n",
       "      <td>T-shirt/top</td>\n",
       "    </tr>\n",
       "  </tbody>\n",
       "</table>\n",
       "</div>"
      ],
      "text/plain": [
       "       pcaX      pcaY     tsneX     tsneY     umapX     umapY      caeX  \\\n",
       "0 -0.207672  0.619046 -0.512748  0.862887 -0.848567 -0.177148 -0.792607   \n",
       "1  0.423870 -0.392556  0.556802 -0.625932  0.973414 -0.103313 -0.493724   \n",
       "2 -0.455815 -0.708062 -0.037304 -0.186733  0.463554 -0.061681 -0.372132   \n",
       "\n",
       "       caeY        class  \n",
       "0 -0.952340   Ankle boot  \n",
       "1 -0.050538  T-shirt/top  \n",
       "2 -0.272005  T-shirt/top  "
      ]
     },
     "execution_count": 2,
     "metadata": {},
     "output_type": "execute_result"
    }
   ],
   "source": [
    "import pandas as pd\n",
    "fashion_mnist_embeddings = pd.read_parquet('data/fashion-mnist-embeddings.pq')\n",
    "fashion_mnist_embeddings = fashion_mnist_embeddings.replace({\"class\": {0: \"T-shirt/top\", 1: \"Trouser\", 2: \"Pullover\", 3: \"Dress\", 4: \"Coat\", 5: \"Sandal\", 6: \"Shirt\", 7: \"Sneaker\", 8: \"Bag\", 9: \"Ankle boot\"}}).astype('category')\n",
    "fashion_mnist_embeddings.head(3)"
   ]
  },
  {
   "cell_type": "code",
   "execution_count": 3,
   "id": "f94d5b95-ee28-4b4c-b373-a2ea049f405d",
   "metadata": {},
   "outputs": [],
   "source": [
    "config = dict(\n",
    "    background_color='#111111',\n",
    "    color_by='class',\n",
    "    color_map={\n",
    "        \"T-shirt/top\": '#FFFF00',\n",
    "        \"Trouser\": '#1CE6FF',\n",
    "        \"Pullover\": '#FF34FF',\n",
    "        \"Dress\": '#FF4A46',\n",
    "        \"Coat\": '#008941',\n",
    "        \"Sandal\": '#006FA6',\n",
    "        \"Shirt\": '#A30059',\n",
    "        \"Sneaker\": '#FFDBE5',\n",
    "        \"Bag\": '#7A4900',\n",
    "        \"Ankle boot\": '#0000A6'\n",
    "    },\n",
    "    legend=True,\n",
    "    axes=False,\n",
    "    zoom_on_selection=True, # To automatically zoom to selected points\n",
    ")"
   ]
  },
  {
   "cell_type": "markdown",
   "id": "b4090fa0-ad9f-4536-a4c7-e4fdbc53a990",
   "metadata": {},
   "source": [
    "## Compose & Link Scatter Plots\n",
    "\n",
    "As before, we're going to create four scatter plot instances for each of the four dimensionality reduction techniqes."
   ]
  },
  {
   "cell_type": "code",
   "execution_count": 4,
   "id": "2137d17f-39d3-4dd0-abb9-f9e6c48f9817",
   "metadata": {},
   "outputs": [
    {
     "name": "stderr",
     "output_type": "stream",
     "text": [
      "/Users/Fritz/Library/Application Support/hatch/env/virtual/jupyter-scatter-tutorial/jFv2tEk1/jupyter-scatter-tutorial/lib/python3.10/site-packages/anywidget/_util.py:201: UserWarning: anywidget: Live-reloading feature is disabled. To enable, please install the 'watchfiles' package.\n",
      "  start_thread=_should_start_thread(maybe_path),\n"
     ]
    }
   ],
   "source": [
    "from jscatter import Scatter\n",
    "\n",
    "pca = Scatter(data=fashion_mnist_embeddings, x='pcaX', y='pcaY', **config)\n",
    "tsne = Scatter(data=fashion_mnist_embeddings, x='tsneX', y='tsneY', **config)\n",
    "umap = Scatter(data=fashion_mnist_embeddings, x='umapX', y='umapY', **config)\n",
    "cae = Scatter(data=fashion_mnist_embeddings, x='caeX', y='caeY', **config)"
   ]
  },
  {
   "cell_type": "markdown",
   "id": "2760cb80-fd91-4f2e-b40f-d15ed13a7cfc",
   "metadata": {},
   "source": [
    "The first difference to before will be a simple drop down menu to allow selection all images of a certain type. For that we use `ipywidgets.Dropdown` and change the point selection of the PCA scatter plot as the drop down selection changes. Since we will make all four scatter plots synchronize their selection, it's sufficient to update selection of either one of them to update all of them."
   ]
  },
  {
   "cell_type": "code",
   "execution_count": null,
   "id": "cd4ede73-f338-427d-b8df-d9d3886f3953",
   "metadata": {},
   "outputs": [],
   "source": [
    "from ipywidgets import Dropdown\n",
    "\n",
    "classes = fashion_mnist_embeddings[\"class\"].unique()\n",
    "select_class = Dropdown(options=[\"-\"] + classes, value=\"-\", description=\"Class\")\n",
    "\n",
    "# Update scatter plot selection upon choosing a different class\n",
    "select_class.observe(\n",
    "    lambda change: pca.selection(fashion_mnist_embeddings.query(f'`class` == \"{change.new}\"').index),\n",
    "    names=[\"value\"]\n",
    ")"
   ]
  },
  {
   "cell_type": "markdown",
   "id": "28855412-bfe7-4829-85b3-eb5e09037998",
   "metadata": {},
   "source": [
    "Selecting points and sychronizing the selection across all four embeddings is great but ultimately each point represents an image. And in order to better understand point clusters it'd be great know what the images look like. To render out the images we're going to create a simple widget with `anywidget` that renders a grid of images.\n",
    "\n",
    "_(Note that to keep this demo fairly simple, we rendered out the Fashion MNIST images beforehand and uploaded to the cloud for easy access. But you could also build a more sophisticated widget with `anywidget` that receives as input the pixels as a binary stream and renders them out on the fly with something like the [Canvas API](https://developer.mozilla.org/en-US/docs/Web/API/Canvas_API).)_"
   ]
  },
  {
   "cell_type": "code",
   "execution_count": null,
   "id": "809d5f91-0d40-4dd4-89a8-0fa8f519ef61",
   "metadata": {},
   "outputs": [],
   "source": [
    "from anywidget import AnyWidget\n",
    "from traitlets import Int, List\n",
    "\n",
    "class ImagesWidget(AnyWidget):\n",
    "    _esm = \"\"\"\n",
    "    const baseUrl = 'https://storage.googleapis.com/flekschas/regl-scatterplot/fashion-mnist-images/';\n",
    "    export function render({ model, el }) {      \n",
    "      const container = document.createElement(\"div\");\n",
    "      container.style.width = \"100%\";\n",
    "      container.style.height = \"100%\";\n",
    "      container.style.minHeight = \"192px\";\n",
    "      container.style.overflow = \"auto\";\n",
    "      container.style.display = \"grid\";\n",
    "      container.style.gridTemplateColumns = \"repeat(auto-fit, minmax(32px, 1fr))\";\n",
    "      container.style.gap = \"8px\";\n",
    "\n",
    "      const style = document.createElement('style');\n",
    "      style.type = 'text/css';\n",
    "      style.innerHTML = '.fashion-mnist { display: flex; width: 32px; height: 32px; background-repeat: no-repeat; background-position: center; }';\n",
    "      document.getElementsByTagName('head')[0].appendChild(style);\n",
    "\n",
    "      function choose(x, k) {\n",
    "        const idxs = Array.from({ length: x.length }, (_, i) => i);\n",
    "        return Array.from({ length: Math.min(k, x.length) }, () => {\n",
    "          const i = Math.round(Math.random() * (idxs.length - 1));\n",
    "          const idx = idxs[i];\n",
    "          idxs.splice(i, 1);\n",
    "          return x[idx];\n",
    "        });\n",
    "      }\n",
    "\n",
    "      function getImages() {\n",
    "        return choose(model.get(\"images\"), model.get(\"max\"));\n",
    "      }\n",
    "\n",
    "      function renderImages() {\n",
    "        container.textContent = ''; // Remove all elements from container\n",
    "        \n",
    "        getImages().forEach(([image, color]) => {\n",
    "          const imgId = String(image).padStart(5, '0');\n",
    "        \n",
    "          const img = document.createElement(\"div\");\n",
    "          img.className = \"fashion-mnist\";\n",
    "          img.style.backgroundColor = color;\n",
    "          img.style.backgroundImage = `url(${baseUrl}${imgId}.png)`;\n",
    "        \n",
    "          container.appendChild(img);\n",
    "        });\n",
    "      }\n",
    "\n",
    "      model.on(\"change:images\", renderImages);\n",
    "      model.on(\"change:max\", renderImages);\n",
    "      \n",
    "      renderImages();\n",
    "      \n",
    "      el.appendChild(container);\n",
    "    }\n",
    "    \"\"\"\n",
    "\n",
    "    images = List().tag(sync=True)\n",
    "    max = Int(50).tag(sync=True)"
   ]
  },
  {
   "cell_type": "markdown",
   "id": "31b5ac5b-8520-4d79-b625-b6aacf70b748",
   "metadata": {},
   "source": [
    "Next, we instatiate an instance of the images widget and update it whenever the selection of the PCA scatter plot changes"
   ]
  },
  {
   "cell_type": "code",
   "execution_count": null,
   "id": "fc8caaff-9753-431e-b030-a7d566191532",
   "metadata": {},
   "outputs": [],
   "source": [
    "from ipywidgets import Box, GridBox, HTML, Layout, Output\n",
    "from random import choices\n",
    "\n",
    "images_title = HTML(value=\"<b>Selected Images:</b>\")\n",
    "images_widget = ImagesWidget()\n",
    "\n",
    "def on_selection_change(change):\n",
    "    images = []\n",
    "\n",
    "    for i in change.new:\n",
    "        color = config[\"color_map\"].get(fashion_mnist_embeddings.iloc[i][\"class\"], \"#666\") \n",
    "        images.append((i, color))\n",
    "\n",
    "    images_widget.images = images\n",
    "\n",
    "pca.widget.observe(on_selection_change, names=[\"selection\"])"
   ]
  },
  {
   "cell_type": "markdown",
   "id": "cb4b0efa-2889-4e21-9d2a-838726451ed3",
   "metadata": {},
   "source": [
    "As before, we're going to compose the four scatter plots into a regular 2x2 grid and enable synchronizing their selection and hover state."
   ]
  },
  {
   "cell_type": "code",
   "execution_count": null,
   "id": "b8eefdbc-6a40-4c4d-9b28-17b484553730",
   "metadata": {},
   "outputs": [],
   "source": [
    "from jscatter import compose\n",
    "\n",
    "scatters = compose(\n",
    "    # [(pca, \"PCA\"), (tsne, \"t-SNE\"), (umap, \"UMAP\"), (cae, \"CAE\")],\n",
    "    [pca, tsne, umap, cae],\n",
    "    sync_selection=True,\n",
    "    sync_hover=True,\n",
    "    rows=2,\n",
    "    row_height=240\n",
    ")"
   ]
  },
  {
   "cell_type": "markdown",
   "id": "131ce82e-17eb-4e6b-a7bf-ec3c27e3e698",
   "metadata": {},
   "source": [
    "Finally, to put everything together into a usable layout, we're going to use `ipywidgets.AppLayout`."
   ]
  },
  {
   "cell_type": "code",
   "execution_count": null,
   "id": "3bb54446-2b99-4dd3-95b6-7f6a180577fc",
   "metadata": {},
   "outputs": [],
   "source": [
    "from ipywidgets import AppLayout, VBox\n",
    "\n",
    "AppLayout(\n",
    "    center=VBox([select_class, scatters]),\n",
    "    right_sidebar=VBox([images_title, images_widget]),\n",
    ")"
   ]
  },
  {
   "cell_type": "markdown",
   "id": "3e705a70-0a66-4987-86ac-06d3480fd6ef",
   "metadata": {},
   "source": [
    "Try selecting some points either by selecting a class from the drop down menu or by lassoing some points. See how up to `50` images appear on the right. You can also easily bump up the maximum number of images that are shown on the right"
   ]
  },
  {
   "cell_type": "code",
   "execution_count": null,
   "id": "00121e08-ba1e-4bfa-9e5d-6db795bb2c20",
   "metadata": {},
   "outputs": [],
   "source": [
    "images_widget.max = 100"
   ]
  },
  {
   "cell_type": "markdown",
   "id": "c3ba37be-da92-46f7-b871-882617b8432f",
   "metadata": {},
   "source": [
    "---\n",
    "\n",
    "## Next\n",
    "\n",
    "Next up, learn how `jscatter`'s point selection can be used to navigate in genomic data.\n",
    "\n",
    "➡️ [Building a Bespoke Interface for Navigating Genomic Data via Loci Embeddings](3-Genomics.ipynb)"
   ]
  },
  {
   "cell_type": "code",
   "execution_count": null,
   "id": "b94af779-d8c3-4709-8eaf-1baf528297b8",
   "metadata": {},
   "outputs": [],
   "source": []
  }
 ],
 "metadata": {
  "kernelspec": {
   "display_name": "Python 3 (ipykernel)",
   "language": "python",
   "name": "python3"
  },
  "language_info": {
   "codemirror_mode": {
    "name": "ipython",
    "version": 3
   },
   "file_extension": ".py",
   "mimetype": "text/x-python",
   "name": "python",
   "nbconvert_exporter": "python",
   "pygments_lexer": "ipython3",
   "version": "3.10.9"
  }
 },
 "nbformat": 4,
 "nbformat_minor": 5
}
