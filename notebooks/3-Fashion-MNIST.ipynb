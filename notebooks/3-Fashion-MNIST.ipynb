{
 "cells": [
  {
   "cell_type": "markdown",
   "id": "0b4ef924-a9b6-4629-a03d-d7bf057c74ea",
   "metadata": {},
   "source": [
    "# Exploring Fashion MNIST\n",
    "\n",
    "In this notebook we're going to show an example of how one can build bespoke a interface for exploring the [Fashion MNIST dataset](https://github.com/zalandoresearch/fashion-mnist) embeddings that we looked at in [2-Composing-Linking-Scatter-Plots.ipynb](#Synchronizing-the-Selection-and-Hover). With `jscatter` alone we can easily select points and sychronize the selection across all four embeddings. While this is great but in order to better understand point clusters it'd be great know what the images they represent. `jscatter` does not support this out of the box but you can easily build an interface that supports this using [traitlets](https://traitlets.readthedocs.io/), [ipywidgets](https://ipywidgets.readthedocs.io/), and [anywidget](https://anywidget.dev/).\n",
    "\n",
    "> 🚨 Shout-out Alert\n",
    "\n",
    "Another shout-out to the marvelous [Trevor Manz](https://trevorma.nz/) for creating [anywidget](https://anywidget.dev/), which makes it super easy to build custom ipywidgets. Fun fact: `jscatter` itself is implemented as an [anywidget](https://anywidget.dev/).\n",
    "\n",
    "---"
   ]
  },
  {
   "cell_type": "markdown",
   "id": "9f7db2d1-abe2-412c-8b84-6d85bf1edf57",
   "metadata": {},
   "source": [
    "## Setup Data & Scatter Plot Config\n",
    "\n",
    "This is the same as from [2-Composing-Linking-Scatter-Plots.ipynb](#Synchronizing-the-Selection-and-Hover)"
   ]
  },
  {
   "cell_type": "code",
   "execution_count": null,
   "id": "27924244-4d05-46d9-8988-b06fdc9bd055",
   "metadata": {},
   "outputs": [],
   "source": [
    "!mkdir -p data\n",
    "!curl -L -C - -o data/fashion-mnist-embeddings.pq https://storage.googleapis.com/flekschas/jupyter-scatter-tutorial/fashion-mnist-embeddings.pq"
   ]
  },
  {
   "cell_type": "code",
   "execution_count": null,
   "id": "99bef601-e993-4414-b778-9c139e48085f",
   "metadata": {},
   "outputs": [],
   "source": [
    "import pandas as pd\n",
    "fashion_mnist_embeddings = pd.read_parquet('data/fashion-mnist-embeddings.pq')\n",
    "fashion_mnist_embeddings = fashion_mnist_embeddings.replace({\"class\": {0: \"T-shirt/top\", 1: \"Trouser\", 2: \"Pullover\", 3: \"Dress\", 4: \"Coat\", 5: \"Sandal\", 6: \"Shirt\", 7: \"Sneaker\", 8: \"Bag\", 9: \"Ankle boot\"}}).astype('category')\n",
    "fashion_mnist_embeddings.head(3)"
   ]
  },
  {
   "cell_type": "code",
   "execution_count": null,
   "id": "f94d5b95-ee28-4b4c-b373-a2ea049f405d",
   "metadata": {},
   "outputs": [],
   "source": [
    "config = dict(\n",
    "    background_color='#111111',\n",
    "    color_by='class',\n",
    "    color_map={\n",
    "        \"T-shirt/top\": '#FFFF00',\n",
    "        \"Trouser\": '#1CE6FF',\n",
    "        \"Pullover\": '#FF34FF',\n",
    "        \"Dress\": '#FF4A46',\n",
    "        \"Coat\": '#008941',\n",
    "        \"Sandal\": '#006FA6',\n",
    "        \"Shirt\": '#A30059',\n",
    "        \"Sneaker\": '#FFDBE5',\n",
    "        \"Bag\": '#7A4900',\n",
    "        \"Ankle boot\": '#0000A6'\n",
    "    },\n",
    "    legend=True,\n",
    "    axes=False,\n",
    "    zoom_on_selection=True, # To automatically zoom to selected points\n",
    ")"
   ]
  },
  {
   "cell_type": "markdown",
   "id": "b4090fa0-ad9f-4536-a4c7-e4fdbc53a990",
   "metadata": {},
   "source": [
    "## Compose & Link Scatter Plots\n",
    "\n",
    "As before, we're going to create four scatter plot instances for each of the four dimensionality reduction techniqes."
   ]
  },
  {
   "cell_type": "code",
   "execution_count": null,
   "id": "2137d17f-39d3-4dd0-abb9-f9e6c48f9817",
   "metadata": {},
   "outputs": [],
   "source": [
    "from jscatter import Scatter\n",
    "\n",
    "pca = Scatter(data=fashion_mnist_embeddings, x='pcaX', y='pcaY', **config)\n",
    "tsne = Scatter(data=fashion_mnist_embeddings, x='tsneX', y='tsneY', **config)\n",
    "umap = Scatter(data=fashion_mnist_embeddings, x='umapX', y='umapY', **config)\n",
    "cae = Scatter(data=fashion_mnist_embeddings, x='caeX', y='caeY', **config)"
   ]
  },
  {
   "cell_type": "markdown",
   "id": "28855412-bfe7-4829-85b3-eb5e09037998",
   "metadata": {},
   "source": [
    "Selecting points and sychronizing the selection across all four embeddings is great but ultimately each point represents an image. And in order to better understand point clusters it'd be great know what the images look like. To render out the images we're going to create a simple widget with `anywidget` that renders a grid of images.\n",
    "\n",
    "_(Note that to keep this demo fairly simple, we rendered out the Fashion MNIST images beforehand and uploaded to the cloud for easy access. But you could also build a more sophisticated widget with `anywidget` that receives as input the pixels as a binary stream and renders them out on the fly with something like the [Canvas API](https://developer.mozilla.org/en-US/docs/Web/API/Canvas_API).)_"
   ]
  },
  {
   "cell_type": "code",
   "execution_count": null,
   "id": "809d5f91-0d40-4dd4-89a8-0fa8f519ef61",
   "metadata": {},
   "outputs": [],
   "source": [
    "from anywidget import AnyWidget\n",
    "from traitlets import Int, List\n",
    "\n",
    "class ImagesWidget(AnyWidget):\n",
    "    _esm = \"\"\"\n",
    "    const baseUrl = 'https://storage.googleapis.com/flekschas/regl-scatterplot/fashion-mnist-images/';\n",
    "    export function render({ model, el }) {\n",
    "      const container = document.createElement('div');\n",
    "      container.classList.add('images-container');\n",
    "      \n",
    "      const title = document.createElement('div');\n",
    "      title.classList.add('images-title');\n",
    "      title.textContent = 'Selected Images';\n",
    "      container.appendChild(title);\n",
    "\n",
    "      const grid = document.createElement('div');\n",
    "      grid.classList.add('images-grid');\n",
    "      container.appendChild(grid);\n",
    "\n",
    "      function choose(x, k) {\n",
    "        const idxs = Array.from({ length: x.length }, (_, i) => i);\n",
    "        return Array.from({ length: Math.min(k, x.length) }, () => {\n",
    "          const i = Math.round(Math.random() * (idxs.length - 1));\n",
    "          const idx = idxs[i];\n",
    "          idxs.splice(i, 1);\n",
    "          return x[idx];\n",
    "        });\n",
    "      }\n",
    "\n",
    "      function getImages() {\n",
    "        return choose(model.get(\"images\"), model.get(\"max\"));\n",
    "      }\n",
    "\n",
    "      function renderImages() {\n",
    "        grid.textContent = ''; // Remove all elements from container\n",
    "        \n",
    "        getImages().forEach(([image, color]) => {\n",
    "          const imgId = String(image).padStart(5, '0');\n",
    "        \n",
    "          const img = document.createElement('div');\n",
    "          img.classList.add('images-fashion-mnist');\n",
    "          img.style.backgroundColor = color;\n",
    "          img.style.backgroundImage = `url(${baseUrl}${imgId}.png)`;\n",
    "        \n",
    "          grid.appendChild(img);\n",
    "        });\n",
    "      }\n",
    "\n",
    "      model.on(\"change:images\", renderImages);\n",
    "      model.on(\"change:max\", renderImages);\n",
    "      \n",
    "      renderImages();\n",
    "      \n",
    "      el.appendChild(container);\n",
    "    }\n",
    "    \"\"\"\n",
    "\n",
    "    _css = \"\"\"\n",
    "    .images-container {\n",
    "      width: 100%;\n",
    "      height: 736px;\n",
    "      padding: 0 0 0 0.25rem;\n",
    "      overflow: auto;\n",
    "    }\n",
    "    \n",
    "    .images-title {\n",
    "      font-size: var(--jp-widgets-font-size);\n",
    "      font-weight: bold;\n",
    "      text-align: center;\n",
    "      line-height: 28px;\n",
    "    }\n",
    "    \n",
    "    .images-grid {\n",
    "      display: grid;\n",
    "      grid-template-columns: repeat(auto-fit, minmax(32px, 1fr));\n",
    "      align-content: flex-start;\n",
    "      gap: 8px;\n",
    "      width: 100%;\n",
    "      height: 610px;\n",
    "      margin-top: 4px;\n",
    "      overflow: auto;\n",
    "    }\n",
    "    \n",
    "    .images-fashion-mnist {\n",
    "      display: flex;\n",
    "      width: 32px;\n",
    "      height: 32px;\n",
    "      background-repeat: no-repeat;\n",
    "      background-position: center;\n",
    "    }\n",
    "    \"\"\"\n",
    "\n",
    "    images = List().tag(sync=True)\n",
    "    max = Int(50).tag(sync=True)"
   ]
  },
  {
   "cell_type": "markdown",
   "id": "31b5ac5b-8520-4d79-b625-b6aacf70b748",
   "metadata": {},
   "source": [
    "Next, we instatiate an instance of the images widget and update it whenever the selection of the PCA scatter plot changes"
   ]
  },
  {
   "cell_type": "code",
   "execution_count": null,
   "id": "fc8caaff-9753-431e-b030-a7d566191532",
   "metadata": {},
   "outputs": [],
   "source": [
    "from ipywidgets import Box, GridBox, Layout, Output\n",
    "from random import choices\n",
    "\n",
    "images_widget = ImagesWidget()\n",
    "\n",
    "def on_selection_change(change):\n",
    "    images = []\n",
    "\n",
    "    for i in change.new:\n",
    "        color = config[\"color_map\"].get(fashion_mnist_embeddings.iloc[i][\"class\"], \"#666\") \n",
    "        images.append((i, color))\n",
    "\n",
    "    images_widget.images = images\n",
    "\n",
    "pca.widget.observe(on_selection_change, names=[\"selection\"])"
   ]
  },
  {
   "cell_type": "markdown",
   "id": "131ce82e-17eb-4e6b-a7bf-ec3c27e3e698",
   "metadata": {},
   "source": [
    "Finally, to put everything together into a usable layout, we compose the scatter plots into a 2x2 grid and combine it with the images widget using `ipywidgets.AppLayout`."
   ]
  },
  {
   "cell_type": "code",
   "execution_count": null,
   "id": "3bb54446-2b99-4dd3-95b6-7f6a180577fc",
   "metadata": {},
   "outputs": [],
   "source": [
    "from ipywidgets import AppLayout, VBox\n",
    "from jscatter import compose\n",
    "\n",
    "scatters = compose(\n",
    "    [(pca, \"PCA\"), (tsne, \"t-SNE\"), (umap, \"UMAP\"), (cae, \"CAE\")],\n",
    "    sync_selection=True,\n",
    "    sync_hover=True,\n",
    "    rows=2,\n",
    "    row_height=310\n",
    ")\n",
    "\n",
    "AppLayout(center=scatters, right_sidebar=images_widget)"
   ]
  },
  {
   "cell_type": "markdown",
   "id": "3e705a70-0a66-4987-86ac-06d3480fd6ef",
   "metadata": {},
   "source": [
    "Try selecting some points either by selecting a class from the drop down menu or by lassoing some points. See how up to `50` images appear on the right. You can also easily bump up the maximum number of images that are shown on the right"
   ]
  },
  {
   "cell_type": "code",
   "execution_count": null,
   "id": "d2387790-8371-42d1-8504-9f8b171f9397",
   "metadata": {},
   "outputs": [],
   "source": [
    "images_widget.max = 300"
   ]
  },
  {
   "cell_type": "markdown",
   "id": "c3ba37be-da92-46f7-b871-882617b8432f",
   "metadata": {},
   "source": [
    "---\n",
    "\n",
    "## Next\n",
    "\n",
    "Next up, learn how `jscatter`'s point selection can be used to navigate in genomic data.\n",
    "\n",
    "➡️ [Building a Bespoke Interface for Navigating Genomic Data via Loci Embeddings](3-Genomics.ipynb)"
   ]
  },
  {
   "cell_type": "code",
   "execution_count": null,
   "id": "b94af779-d8c3-4709-8eaf-1baf528297b8",
   "metadata": {},
   "outputs": [],
   "source": []
  }
 ],
 "metadata": {
  "kernelspec": {
   "display_name": "Python 3 (ipykernel)",
   "language": "python",
   "name": "python3"
  },
  "language_info": {
   "codemirror_mode": {
    "name": "ipython",
    "version": 3
   },
   "file_extension": ".py",
   "mimetype": "text/x-python",
   "name": "python",
   "nbconvert_exporter": "python",
   "pygments_lexer": "ipython3",
   "version": "3.10.9"
  }
 },
 "nbformat": 4,
 "nbformat_minor": 5
}
