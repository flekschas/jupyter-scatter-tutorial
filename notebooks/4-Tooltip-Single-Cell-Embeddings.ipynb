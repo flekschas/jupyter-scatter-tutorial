{
 "cells": [
  {
   "cell_type": "markdown",
   "id": "a2d8a682-c7e7-4d65-aafe-9dc5b1977b97",
   "metadata": {},
   "source": [
    "# Single-Cell with Tooltip\n",
    "\n",
    "In this notebook we're going to show an example of the tooltip using the single-cell embedding of [Mair et al., 2022](https://www.nature.com/articles/s41586-022-04718-w) that we saw in earlier notebooks.\n",
    "\n",
    "> **NOTE:**\n",
    ">\n",
    "> In order to run this notebook you need to have Jupyter Scatter `v0.15.0` installed."
   ]
  },
  {
   "cell_type": "code",
   "execution_count": null,
   "id": "e93e1cea-74bd-4f16-b66c-1fa6a200c9dc",
   "metadata": {},
   "outputs": [],
   "source": [
    "!mkdir -p data\n",
    "!curl -L -C - -o data/mair-2022-tissue-138-ozette.pq https://storage.googleapis.com/flekschas/jupyter-scatter-tutorial/mair-2022-tissue-138-ozette-tooltip.pq"
   ]
  },
  {
   "cell_type": "code",
   "execution_count": null,
   "id": "dbdea0ec-2dc7-4b42-b0ed-cc5140a1e70c",
   "metadata": {},
   "outputs": [],
   "source": [
    "import pandas as pd\n",
    "\n",
    "df = pd.read_parquet(\"data/mair-2022-tissue-138-ozette-tooltip.pq\")\n",
    "df.head(2)"
   ]
  },
  {
   "cell_type": "code",
   "execution_count": null,
   "id": "1667ab53-ee07-4592-9d0d-0b652213b161",
   "metadata": {},
   "outputs": [],
   "source": [
    "from jscatter import Scatter, glasbey_light, glasbey_dark, link\n",
    "\n",
    "color_by = \"cell_population\"\n",
    "\n",
    "color_map = dict(zip(df[color_by].unique(), cycle(glasbey_light[1:])))\n",
    "color_map[\"Non-robust\"] = (0.2, 0.2, 0.2, 1.0)\n",
    "\n",
    "scatter = Scatter(\n",
    "    data=df,\n",
    "    x='x',\n",
    "    y='y',\n",
    "    background_color=\"#1E1E20\",\n",
    "    axes=False,\n",
    "    height=480,\n",
    "    color_by=color_by,\n",
    "    color_map=color_map,\n",
    "    tooltip=True,\n",
    "    tooltip_properties=[\"color\", \"cell_type\", \"CD3\", \"CD4\", \"CD8\", \"CD19\", \"CD27\", \"CD45RA\"],\n",
    "    tooltip_histograms_size=\"large\",\n",
    ")\n",
    "\n",
    "# Remove non-robust cell populations from the histogram as it's uninteresting\n",
    "color_histogram = scatter.widget.color_histogram.copy()\n",
    "color_histogram[scatter._color_categories['Non-robust']] = 0\n",
    "scatter.widget.color_histogram = color_histogram\n",
    "\n",
    "scatter.show()"
   ]
  },
  {
   "cell_type": "code",
   "execution_count": null,
   "id": "2a47882a-b01a-4fc3-9410-5664d11a491b",
   "metadata": {},
   "outputs": [],
   "source": []
  }
 ],
 "metadata": {
  "kernelspec": {
   "display_name": "Python 3 (ipykernel)",
   "language": "python",
   "name": "python3"
  },
  "language_info": {
   "codemirror_mode": {
    "name": "ipython",
    "version": 3
   },
   "file_extension": ".py",
   "mimetype": "text/x-python",
   "name": "python",
   "nbconvert_exporter": "python",
   "pygments_lexer": "ipython3",
   "version": "3.10.9"
  }
 },
 "nbformat": 4,
 "nbformat_minor": 5
}
