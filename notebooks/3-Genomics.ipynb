{
 "cells": [
  {
   "cell_type": "markdown",
   "id": "5e336388-33f9-41d9-8976-481502ebe2fe",
   "metadata": {},
   "source": [
    "# Exploring Genomic Data in Combination with HiGlass"
   ]
  },
  {
   "cell_type": "code",
   "execution_count": 2,
   "id": "7e0b4d44-674b-4adc-802d-4c66de06a292",
   "metadata": {},
   "outputs": [],
   "source": [
    "from __future__ import annotations\n",
    "\n",
    "import pandas as pd\n",
    "import numpy as np\n",
    "import matplotlib.colors as colors\n",
    "import jscatter\n",
    "import ipywidgets\n",
    "import traitlets\n",
    "\n",
    "import re\n",
    "\n",
    "IPG_COLORS = {'A1': '#e23838', 'A2': '#f78200', 'AB': '#5ebd3e', 'A3': '#ffb900', 'B0': '#6495ED', 'B4': '#973999'}\n",
    "IPG_COLORS_RGB = { k: f\"{int(v[1:3], 16)},{int(v[3:5], 16)},{int(v[5:7], 16)}\" for k, v in IPG_COLORS.items() }\n",
    "\n",
    "def hex_to_rgb(hex_code: str):\n",
    "    if len(hex_code) != 7 or hex_code[0] != '#':\n",
    "        raise ValueError('Input should be a 7-character string in the form #XXXXXX')\n",
    "    r = int(hex_code[1:3], 16)\n",
    "    g = int(hex_code[3:5], 16)\n",
    "    b = int(hex_code[5:7], 16)\n",
    "    return f\"{r},{g},{b}\"\n",
    "\n",
    "def load_stages():\n",
    "    df = pd.read_parquet(\"data.pq\")\n",
    "    joint = df.iloc[:, ~df.columns.str.match(\"^stage\\..*$\")]\n",
    "    return joint, dict(iter_stages(df))\n",
    "\n",
    "def iter_stages(data: pd.DataFrame, stages: tuple[str, ...] = (\"ESC\", \"DE\", \"HB\", \"iHEP\", \"mHEP\")):\n",
    "    metadata = data.iloc[:, ~data.columns.str.match(\"^stage\\..*$\")]\n",
    "    # metadata = metadata.drop(\"IPG\", axis=1)\n",
    "    for stage in stages:\n",
    "        df = data.filter(regex=f\"^stage\\.{stage}\\..*$\")\n",
    "        df.columns = df.columns.str.removeprefix(f\"stage.{stage}.\")\n",
    "        df = df.drop(\"IPG\", axis=1)\n",
    "        yield stage, metadata.join(df, how=\"right\")\n",
    "\n",
    "def color_kwargs(series: pd.Series):\n",
    "    defaults = {\n",
    "        \"GC\": { \"norm\": colors.Normalize(vmin=0.35, vmax=0.65), \"map\": \"RdYlBu_r\" },\n",
    "        \"centel_abs\": { \"norm\": colors.Normalize(vmin=0, vmax=149043529), \"map\": \"Greys\" },\n",
    "        \"IPG\": { \"map\": IPG_COLORS }\n",
    "    }\n",
    "    if series.name in defaults:\n",
    "        return defaults[series.name]\n",
    "    if pd.api.types.is_categorical_dtype(series):\n",
    "        return {\n",
    "            \"map\": dict(zip(series.cat.categories, jscatter.glasbey_dark)),\n",
    "        }\n",
    "    if pd.api.types.is_numeric_dtype(series):\n",
    "        return {\n",
    "            \"norm\": colors.Normalize(vmin=data.min(), vmax=data.max()),\n",
    "            \"map\": \"viridis_r\",\n",
    "        }\n",
    "    return {}\n",
    "    \n",
    "joint, stages = load_stages()"
   ]
  },
  {
   "cell_type": "code",
   "execution_count": 3,
   "id": "7649b15f-59ff-4ff2-bc48-3dc1eb911618",
   "metadata": {},
   "outputs": [],
   "source": [
    "def init_scatters(stages: dict[str, pd.DataFrame], x: str = \"E1\", y: str = \"E2\", color: str = \"IPG\"):\n",
    "    scatters = [jscatter.Scatter(x=x, y=y, data=data, opacity=0.5) for data in stages.values()]\n",
    "    dropdowns = init_dropdowns(x=x, y=y, color=color, scatters=scatters)\n",
    "    linked_scatters = jscatter.compose(scatters, sync_selection=True)\n",
    "    # TODO: remove the following and replace with below after next release \n",
    "    # jscatter.compose(list(zip(stages, scatters)), sync_selection=True),\n",
    "    linked_scatters.children = [\n",
    "        ipywidgets.VBox([ipywidgets.Label(stage), scatter])\n",
    "        for stage, scatter in zip(stages, linked_scatters.children)\n",
    "    ]\n",
    "    linked_scatters.add_traits(\n",
    "        coords=traitlets.Any(pd.DataFrame(columns=[\"chrom\", \"start\", \"end\"]))\n",
    "    )\n",
    "    ipywidgets.dlink(\n",
    "        source=(scatters[0].widget, \"selection\"),\n",
    "        target=(linked_scatters, \"coords\"),\n",
    "        transform=lambda ind: scatters[0]._data.iloc[ind][[\"chrom\", \"start\", \"end\"]],\n",
    "    )\n",
    "    return ipywidgets.VBox([linked_scatters, ipywidgets.HBox(dropdowns)])\n",
    "\n",
    "def init_dropdowns(x: str, y: str, color: str, scatters: list[jscatter.Scatter]):\n",
    "    _stage = scatters[0]._data\n",
    "    is_eigenvector_column = _stage.columns.str.match(r\"^E\\d$\")\n",
    "    xy_options = _stage.columns[is_eigenvector_column]\n",
    "    x_dropdown = ipywidgets.Dropdown(options=xy_options, value=x, description=\"x:\")\n",
    "    def on_change_x(change):\n",
    "        for scatter in scatters:\n",
    "            scatter.x(change.new)\n",
    "    y_dropdown = ipywidgets.Dropdown(options=xy_options, value=y, description=\"y:\")\n",
    "    def on_change_y(change):\n",
    "        for scatter in scatters:\n",
    "            scatter.y(change.new)\n",
    "    color_options = reversed(\n",
    "        list(c for c in _stage.columns[~is_eigenvector_column] if c not in (\"start\", \"end\"))\n",
    "    )\n",
    "    c_dropdown = ipywidgets.Dropdown(options=color_options, value=color, description=\"color:\")\n",
    "    def on_change_color(change):\n",
    "        for scatter in scatters:\n",
    "            scatter.color(by=change[\"new\"], **color_kwargs(scatter._data[change[\"new\"]]))\n",
    "\n",
    "    x_dropdown.observe(on_change_x, names=[\"value\"])\n",
    "    y_dropdown.observe(on_change_y, names=[\"value\"])\n",
    "    c_dropdown.observe(on_change_color, names=[\"value\"])\n",
    "    on_change_color(dict(new=color))\n",
    "\n",
    "    return x_dropdown, y_dropdown, c_dropdown"
   ]
  },
  {
   "cell_type": "code",
   "execution_count": 4,
   "id": "78851014-a017-45fe-b6d7-841c39e69337",
   "metadata": {},
   "outputs": [
    {
     "data": {
      "application/vnd.jupyter.widget-view+json": {
       "model_id": "64e7a837dcf347eabce507033eb0b15e",
       "version_major": 2,
       "version_minor": 0
      },
      "text/plain": [
       "VBox(children=(GridBox(children=(VBox(children=(Label(value='ESC'), HBox(children=(VBox(children=(Button(butto…"
      ]
     },
     "execution_count": 4,
     "metadata": {},
     "output_type": "execute_result"
    }
   ],
   "source": [
    "scatters = init_scatters(stages=stages)\n",
    "scatters"
   ]
  },
  {
   "cell_type": "code",
   "execution_count": 7,
   "id": "85c17a4b-c7dd-4dba-a23c-51665d7391f8",
   "metadata": {},
   "outputs": [],
   "source": [
    "import dataclasses\n",
    "import higlass as hg\n",
    "import bioframe as bf\n",
    "import uuid\n",
    "\n",
    "def iter_bedtiles(df: pd.DataFrame, chrom_starts: dict[str, int]):\n",
    "    df = bf.cluster(df).groupby(\"cluster\").agg({\"chrom\": \"first\", \"start\": \"min\", \"end\": \"max\", \"IPG\": \"first\"})\n",
    "    for (chrom, start, end, ipg) in df.values:\n",
    "        start, end = int(start), int(end)\n",
    "        yield {\n",
    "            \"chrOffset\": chrom_starts[chrom],\n",
    "            \"xStart\": chrom_starts[chrom] + start,\n",
    "            \"xEnd\": chrom_starts[chrom] + end,\n",
    "            \"importance\": 0,\n",
    "            \"uid\": uuid.uuid4().hex,\n",
    "            \"fields\": (chrom, start, end, ipg, \".\", \".\", start, end, IPG_COLORS_RGB[ipg])\n",
    "        }\n",
    "    \n",
    "@dataclasses.dataclass\n",
    "class DynamicTileset:\n",
    "    name: str\n",
    "    chromsizes: pd.Series\n",
    "    uid: str = dataclasses.field(default_factory=lambda: uuid.uuid4().hex)\n",
    "    datatype = \"bedlike\"\n",
    "        \n",
    "    def __post_init__(self):\n",
    "        abslen = self.chromsizes.cumsum()\n",
    "        starts = pd.Series([0] + abslen[:-1].tolist(), index=abslen.index)\n",
    "        self._starts =  {k: int(v) for k, v in starts.items()}\n",
    "        self._tiles = []\n",
    "        \n",
    "    def update(self, df: pd.DataFrame):\n",
    "        self._tiles = list(iter_bedtiles(df, self._starts))\n",
    "        \n",
    "    def info(self):\n",
    "        total = int(np.sum(self.chromsizes.values))\n",
    "        return {\"uuid\": self.uid, \"max_width\": total, \"min_pos\": [1], \"max_pos\": [total], \"max_zoom\": 0}\n",
    "     \n",
    "    def tiles(self, _tileids):\n",
    "        return [(f\"{self.uid}.0.0\", self._tiles)]\n",
    "\n",
    "def init_dynamic_tileset():\n",
    "    bins = joint\n",
    "    tileset = DynamicTileset(name=\"IPG clusters\", chromsizes=bf.fetch_chromsizes('hg38')[:'chrY'])\n",
    "    tileset.update(bins)\n",
    "    return tileset, bins\n",
    "\n",
    "def init_dynamic_track():\n",
    "    tileset, bins = init_dynamic_tileset()\n",
    "    track = hg.server.add(tileset).track(height=30).opts(fillOpacity=1)\n",
    "    def update_tileset(coords):\n",
    "        if len(coords) > 0:\n",
    "            inds = bf.overlap(bins, coords, how=\"inner\", return_index=True, return_input=False)\n",
    "            tileset.update(bins[inds[\"index\"]])\n",
    "        else:\n",
    "            tileset.update(bins)\n",
    "        \n",
    "    return track, update_tileset\n",
    "\n",
    "def init_viewer(scatter: None | traitlets.HasTraits = None):\n",
    "    conf = hg.Viewconf.parse_file(\"viewconf.json\")\n",
    "    track, update_tileset = init_dynamic_track()\n",
    "    view = conf.views[0]\n",
    "    view.tracks.top[1].height= 100\n",
    "    view.tracks.top.append(track)\n",
    "    \n",
    "    hg_viewer = conf.widget()\n",
    "    \n",
    "    if scatter is None:\n",
    "        return hg_viewer\n",
    "    \n",
    "    def on_coords_change(change):\n",
    "        update_tileset(change.new)\n",
    "        hg_viewer.reload(dict(trackId=track.uid, viewId=view.uid))\n",
    "\n",
    "    scatter.children[0].observe(on_coords_change, names=[\"coords\"])\n",
    "    return hg_viewer"
   ]
  },
  {
   "cell_type": "code",
   "execution_count": 8,
   "id": "a4f0ba73-5d2a-410c-9a23-608e332a3201",
   "metadata": {},
   "outputs": [
    {
     "data": {
      "application/vnd.jupyter.widget-view+json": {
       "model_id": "57749e7d0df24108ab390d2290c18ddd",
       "version_major": 2,
       "version_minor": 0
      },
      "text/plain": [
       "VBox(children=(HiGlassWidget(), VBox(children=(GridBox(children=(VBox(children=(Label(value='ESC'), HBox(child…"
      ]
     },
     "execution_count": 8,
     "metadata": {},
     "output_type": "execute_result"
    }
   ],
   "source": [
    "viewer = init_viewer(scatter=scatters)\n",
    "\n",
    "ipywidgets.VBox([viewer, scatters])"
   ]
  },
  {
   "cell_type": "code",
   "execution_count": null,
   "id": "f2507ec9-091a-4d7f-9c5e-f147b8acdef8",
   "metadata": {},
   "outputs": [],
   "source": []
  },
  {
   "cell_type": "code",
   "execution_count": null,
   "id": "9a681905-e739-475e-b0c4-cdd6e0d6b59a",
   "metadata": {},
   "outputs": [],
   "source": []
  },
  {
   "cell_type": "code",
   "execution_count": null,
   "id": "9f16f79c-5af2-41a0-8543-285feec55762",
   "metadata": {},
   "outputs": [],
   "source": []
  }
 ],
 "metadata": {
  "kernelspec": {
   "display_name": "Python 3 (ipykernel)",
   "language": "python",
   "name": "python3"
  },
  "language_info": {
   "codemirror_mode": {
    "name": "ipython",
    "version": 3
   },
   "file_extension": ".py",
   "mimetype": "text/x-python",
   "name": "python",
   "nbconvert_exporter": "python",
   "pygments_lexer": "ipython3",
   "version": "3.11.4"
  }
 },
 "nbformat": 4,
 "nbformat_minor": 5
}
