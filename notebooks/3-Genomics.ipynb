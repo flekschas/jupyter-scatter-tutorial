{
 "cells": [
  {
   "cell_type": "markdown",
   "id": "5e336388-33f9-41d9-8976-481502ebe2fe",
   "metadata": {},
   "source": [
    "# Exploring Genomic Data in Combination with HiGlass"
   ]
  },
  {
   "cell_type": "code",
   "execution_count": null,
   "id": "7649b15f-59ff-4ff2-bc48-3dc1eb911618",
   "metadata": {},
   "outputs": [],
   "source": []
  }
 ],
 "metadata": {
  "kernelspec": {
   "display_name": "Python 3 (ipykernel)",
   "language": "python",
   "name": "python3"
  },
  "language_info": {
   "codemirror_mode": {
    "name": "ipython",
    "version": 3
   },
   "file_extension": ".py",
   "mimetype": "text/x-python",
   "name": "python",
   "nbconvert_exporter": "python",
   "pygments_lexer": "ipython3",
   "version": "3.10.9"
  }
 },
 "nbformat": 4,
 "nbformat_minor": 5
}
