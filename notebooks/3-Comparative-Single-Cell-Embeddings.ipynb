{
 "cells": [
  {
   "cell_type": "markdown",
   "id": "c51533ea-fcc7-40d6-810c-c6fb410a5529",
   "metadata": {},
   "source": [
    "# Comparing Single-Cell Dataset with `cev`"
   ]
  },
  {
   "cell_type": "code",
   "execution_count": null,
   "id": "2d3a113e-b92b-4829-a431-be7b9542a056",
   "metadata": {},
   "outputs": [],
   "source": []
  }
 ],
 "metadata": {
  "kernelspec": {
   "display_name": "Python 3 (ipykernel)",
   "language": "python",
   "name": "python3"
  },
  "language_info": {
   "codemirror_mode": {
    "name": "ipython",
    "version": 3
   },
   "file_extension": ".py",
   "mimetype": "text/x-python",
   "name": "python",
   "nbconvert_exporter": "python",
   "pygments_lexer": "ipython3",
   "version": "3.10.9"
  }
 },
 "nbformat": 4,
 "nbformat_minor": 5
}
