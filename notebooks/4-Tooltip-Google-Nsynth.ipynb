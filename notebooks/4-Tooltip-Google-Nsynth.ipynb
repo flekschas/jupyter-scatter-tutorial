{
 "cells": [
  {
   "cell_type": "markdown",
   "id": "d6a52911-05cf-447a-acaa-8a476d6f8c59",
   "metadata": {},
   "source": [
    "# Tooltip for Google's Magenta Nsynth Audio Dataset\n",
    "\n",
    "In this notebook we're going to show an example of the tooltip's audio previews using an embedding of [Google's Magenta NSynth Test dataset](https://magenta.tensorflow.org/datasets/nsynth#files).\n",
    "\n",
    "> **NOTE:**\n",
    ">\n",
    "> In order to run this notebook you need to have Jupyter Scatter `v0.15.0` installed."
   ]
  },
  {
   "cell_type": "code",
   "execution_count": null,
   "id": "247514ee-fb02-478f-9528-26d0a42c8032",
   "metadata": {},
   "outputs": [],
   "source": [
    "!mkdir -p data\n",
    "!curl -L -C - -o data/nsynth-test.pq https://storage.googleapis.com/flekschas/jupyter-scatter-tutorial/nsynth-test.pq"
   ]
  },
  {
   "cell_type": "code",
   "execution_count": null,
   "id": "3e7e0400-c31a-4f7b-8dc6-b0344eea3ec7",
   "metadata": {},
   "outputs": [],
   "source": [
    "import jscatter\n",
    "import pandas as pd\n",
    "\n",
    "df = pd.read_parquet(\"data/nsynth-test.pq\")\n",
    "df.head(2)"
   ]
  },
  {
   "cell_type": "code",
   "execution_count": null,
   "id": "0de38470-f357-45ce-ada2-4ef0813c0138",
   "metadata": {},
   "outputs": [],
   "source": [
    "import jscatter\n",
    "\n",
    "scatter = jscatter.Scatter(data=df, x=\"umap_x\", y=\"umap_y\")\n",
    "scatter.height(640)\n",
    "scatter.axes(False)\n",
    "scatter.color(by=\"instrument\")\n",
    "scatter.background(color=\"#111111\")\n",
    "scatter.legend(True)\n",
    "scatter.tooltip(\n",
    "    True,\n",
    "    properties=[\"color\", \"instrument_type\"],\n",
    "    preview=\"url\",\n",
    "    preview_type=\"audio\",\n",
    "    preview_audio_length=2,\n",
    "    preview_audio_loop=True,\n",
    "    preview_audio_controls=False,\n",
    ")\n",
    "\n",
    "scatter.show()"
   ]
  },
  {
   "cell_type": "code",
   "execution_count": null,
   "id": "9c204d43-529a-4053-b7a2-99732872ee27",
   "metadata": {},
   "outputs": [],
   "source": []
  }
 ],
 "metadata": {
  "kernelspec": {
   "display_name": "Python 3 (ipykernel)",
   "language": "python",
   "name": "python3"
  },
  "language_info": {
   "codemirror_mode": {
    "name": "ipython",
    "version": 3
   },
   "file_extension": ".py",
   "mimetype": "text/x-python",
   "name": "python",
   "nbconvert_exporter": "python",
   "pygments_lexer": "ipython3",
   "version": "3.10.9"
  }
 },
 "nbformat": 4,
 "nbformat_minor": 5
}
