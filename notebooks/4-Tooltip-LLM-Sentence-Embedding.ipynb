{
 "cells": [
  {
   "cell_type": "markdown",
   "id": "b0759f84-79f3-446d-b23e-0fef987165ad",
   "metadata": {},
   "source": [
    "# Tooltip for LLM Sentence Embedding\n",
    "\n",
    "In this notebook we're going to show an example of the tooltip's text preview using the embedding the [News Category Dataset](https://www.kaggle.com/datasets/rmisra/news-category-dataset?resource=download) from [Rishabh Misra, 2022](https://arxiv.org/abs/2209.11429) that we used before.\n",
    "\n",
    "> **NOTE:**\n",
    ">\n",
    "> In order to run this notebook you need to have Jupyter Scatter `v0.15.0` installed."
   ]
  },
  {
   "cell_type": "code",
   "execution_count": null,
   "id": "273a6f99-0d66-45a5-8de9-12967aed7cca",
   "metadata": {},
   "outputs": [],
   "source": [
    "# If you run this notebook in Google Colab, you need to manually install the following packages.\n",
    "# !pip install --quiet jupyter-scatter"
   ]
  },
  {
   "cell_type": "code",
   "execution_count": null,
   "id": "f4e97498-980c-45be-8743-39c55bd81ed4",
   "metadata": {},
   "outputs": [],
   "source": [
    "!mkdir -p data\n",
    "!curl -L -C - -o data/huffpost-embeddings.pq https://storage.googleapis.com/flekschas/jupyter-scatter-tutorial/huffpost-embeddings.pq"
   ]
  },
  {
   "cell_type": "code",
   "execution_count": null,
   "id": "5ef52ed8-cc9e-408e-9c7e-34987b5bb499",
   "metadata": {},
   "outputs": [],
   "source": [
    "import pandas as pd\n",
    "\n",
    "huffpost_embeddings = pd.read_parquet('data/huffpost-embeddings.pq')\n",
    "huffpost_embeddings.head(2)"
   ]
  },
  {
   "cell_type": "code",
   "execution_count": null,
   "id": "513dfe2c-671c-4ef0-85ac-eda43fc62e06",
   "metadata": {},
   "outputs": [],
   "source": [
    "from jscatter import Scatter, glasbey_light\n",
    "\n",
    "category_cmap = { cat: glasbey_light[i] for i, cat in enumerate(sorted(huffpost_embeddings.category.unique())) }\n",
    "\n",
    "scatter = Scatter(\n",
    "    data=huffpost_embeddings,\n",
    "    x='x',\n",
    "    y='y',\n",
    "    color_by='category',\n",
    "    color_map=category_cmap,\n",
    "    background_color=\"#111111\",\n",
    "    height=640,\n",
    "    axes=False,\n",
    "    tooltip=True,\n",
    "    tooltip_preview=\"headline\",\n",
    "    tooltip_preview_type=\"text\",\n",
    "    tooltip_properties=[\"color\", \"length\"],\n",
    "    tooltip_histograms_ranges={\"length\": (huffpost_embeddings.length.quantile(0.01), huffpost_embeddings.length.quantile(0.99))}\n",
    ")\n",
    "scatter.show()"
   ]
  },
  {
   "cell_type": "code",
   "execution_count": null,
   "id": "16a6492e-615b-4c01-b130-47c068304163",
   "metadata": {},
   "outputs": [],
   "source": []
  }
 ],
 "metadata": {
  "kernelspec": {
   "display_name": "Python 3 (ipykernel)",
   "language": "python",
   "name": "python3"
  },
  "language_info": {
   "codemirror_mode": {
    "name": "ipython",
    "version": 3
   },
   "file_extension": ".py",
   "mimetype": "text/x-python",
   "name": "python",
   "nbconvert_exporter": "python",
   "pygments_lexer": "ipython3",
   "version": "3.12.3"
  }
 },
 "nbformat": 4,
 "nbformat_minor": 5
}
