{
 "cells": [
  {
   "cell_type": "markdown",
   "id": "5e7de3bb-9ab6-4206-b681-f613b396b853",
   "metadata": {},
   "source": [
    "# Exploring LLM-based Sentence Embeddings\n",
    "\n",
    "In this notebook we're going see how we can build bespoke interfaces using `jscatter` and `ipywidgets` for exploring text embeddings. For this, we're going to use the [News Category Dataset](https://www.kaggle.com/datasets/rmisra/news-category-dataset?resource=download) from [Rishabh Misra, 2022](https://arxiv.org/abs/2209.11429) again. But this time, we're going to make the scatter plot configurable and display the actual news articles that relate to data points"
   ]
  },
  {
   "cell_type": "markdown",
   "id": "bb1c9918-48b5-48b9-bfc3-60d8944a19af",
   "metadata": {},
   "source": [
    "## Setup Data & Scatter Plot Config\n",
    "\n",
    "This is the same as from [2-Composing-Linking-Scatter-Plots.ipynb](#Synchronizing-Views)"
   ]
  },
  {
   "cell_type": "code",
   "execution_count": null,
   "id": "1c73e316-abcd-4020-87b4-831804c5f6e5",
   "metadata": {},
   "outputs": [],
   "source": [
    "!curl -L -C - -o data/huffpost-embeddings.pq https://storage.googleapis.com/flekschas/jupyter-scatter-tutorial/huffpost-embeddings.pq"
   ]
  },
  {
   "cell_type": "code",
   "execution_count": null,
   "id": "8b293e51-b307-488f-b8d2-2d6d0c0196e5",
   "metadata": {},
   "outputs": [],
   "source": [
    "import numpy as np\n",
    "import pandas as pd\n",
    "huffpost_embeddings = pd.read_parquet('data/huffpost-embeddings.pq')\n",
    "huffpost_embeddings.year = huffpost_embeddings.year.astype('category')\n",
    "huffpost_embeddings['length_clr'] = np.log(huffpost_embeddings.length.values / np.exp(np.mean(np.log(huffpost_embeddings.length.values))))\n",
    "huffpost_embeddings.head(3)"
   ]
  },
  {
   "cell_type": "markdown",
   "id": "e0fc1894-e50f-41f4-98b1-120daf37ec14",
   "metadata": {},
   "source": [
    "In the following we're setting up colormaps and the base configuration for `jscatter`."
   ]
  },
  {
   "cell_type": "code",
   "execution_count": null,
   "id": "c97d0b56-0bf2-4409-a16f-0c294fcb0515",
   "metadata": {},
   "outputs": [],
   "source": [
    "from jscatter import glasbey_light\n",
    "\n",
    "category_cmap = { cat: glasbey_light[i] for i, cat in enumerate(sorted(huffpost_embeddings.category.unique())) }\n",
    "month_cmap = { 'January': '#3C33FF', 'February': '#4587E8', 'March': '#6FCFF1', 'April': '#40E52C', 'May': '#9CFA0B', 'June': '#B7F113', 'July': '#FFFF34', 'August': '#FCD66F', 'September': '#FFAEBC', 'October': '#FF5DFF', 'November': '#C75DFF', 'December': '#AD7EFF' }\n",
    "season_cmap = { 'Spring': '#9CFA0B', 'Summer': '#FFFF34', 'Fall': '#FF5DFF', 'Winter': '#3C33FF' }\n",
    "year_cmap = { '2012': '#ffffe0', '2013': '#ffefc1', '2014': '#ffdfa8', '2015': '#ffcc92', '2016': '#ffba81', '2017': '#ffa875', '2018': '#ff926c', '2019': '#ff7d65', '2020': '#ff635e', '2021': '#ff4251', '2022': '#ff0000' }\n",
    "\n",
    "huffpost_scatter_config = dict(x='x', y='y', axes=False, background_color='#111111')"
   ]
  },
  {
   "cell_type": "markdown",
   "id": "0e8c30e3-3955-4cf3-8bb7-1bb81b79a854",
   "metadata": {},
   "source": [
    "Next, we're creating a `Scatter` instance for visualizing the news articles by category as in the previous notebook."
   ]
  },
  {
   "cell_type": "code",
   "execution_count": null,
   "id": "039624af-3d49-4595-a952-4362f22a62d6",
   "metadata": {},
   "outputs": [],
   "source": [
    "from jscatter import Scatter\n",
    "scatter = Scatter(\n",
    "    data=huffpost_embeddings,\n",
    "    color_by='category',\n",
    "    color_map=category_cmap,\n",
    "    height=720,\n",
    "    legend=True,\n",
    "    **huffpost_scatter_config\n",
    ")\n",
    "scatter.show()"
   ]
  },
  {
   "cell_type": "markdown",
   "id": "b26861ed-7f9d-448a-90c1-8bc132bbd7de",
   "metadata": {},
   "source": [
    "This is the same scatter plot we saw before. While it's useful, it would be even cooler if we could easily change the color settings and facet the news articles to better see trends. We can do this with `ipywidgets` as shown in the following section.\n",
    "\n",
    "## Connecting `jscatter` with `ipywidgets`\n",
    "\n",
    "To enhance the exploration, we're going to introduce two drop down menus for:\n",
    "\n",
    "1. Changing the color settings\n",
    "3. Filter down the dataset\n",
    "\n",
    "Additionally, we're going to use Pandas DataFrame's pretty print functionality to show the actualy news headlines related to selected data points"
   ]
  },
  {
   "cell_type": "code",
   "execution_count": null,
   "id": "31dc6d97-833a-4f4c-a751-64971584c98d",
   "metadata": {},
   "outputs": [],
   "source": [
    "from ipywidgets import Dropdown\n",
    "\n",
    "categorical_variables = [\"category\", \"year\", \"month\", \"season\"]\n",
    "continuous_variables = [\"length_clr\"]\n",
    "\n",
    "categories = [list(map(lambda val: f\"{cat}:{val}\", sorted(huffpost_embeddings[cat].unique()))) for cat in categorical_variables]\n",
    "categories = [item for sublist in categories for item in sublist]\n",
    "\n",
    "select_color = Dropdown(options=categorical_variables + continuous_variables, value=\"category\", description=\"Color by\")\n",
    "select_filter = Dropdown(options=[\"-\"] + categories, value=\"-\", description=\"Filter to\")\n",
    "select_facet = Dropdown(options=[\"-\"] + categorical_variables, value=\"-\", description=\"Facet by\")"
   ]
  },
  {
   "cell_type": "markdown",
   "id": "7cbfb919-66da-481d-9fbc-180a5e496f5e",
   "metadata": {},
   "source": [
    "The most \"complex\" aspect of building the bespoke interface involes setting up the change event handlers and updating the scatter plots appropriately."
   ]
  },
  {
   "cell_type": "code",
   "execution_count": null,
   "id": "42b36d5c-f8a3-4d79-96d4-26c3bd84cef8",
   "metadata": {},
   "outputs": [],
   "source": [
    "from ipywidgets import Box, HTML, Output\n",
    "\n",
    "\"\"\"\n",
    "The following part listenes to selection changes, prints the related news headlines,\n",
    "and capture the print output so we can display it next to the scatter plot.\n",
    "\"\"\"\n",
    "table = Output()\n",
    "@table.capture(clear_output=True)\n",
    "def on_selection_change(change):\n",
    "    display(huffpost_embeddings.iloc[change.new][[\"category\", \"headline\"]].style.hide(axis='index'))\n",
    "\n",
    "scatter.widget.observe(on_selection_change, names=[\"selection\"])\n",
    "\n",
    "\"\"\"\n",
    "The following part set's up the event handlers for changing the point color\n",
    "\"\"\"\n",
    "def get_cmap(color):\n",
    "    if color == \"category\":\n",
    "        return (category_cmap, None)\n",
    "    if color == \"month\":\n",
    "        return (month_cmap, None)\n",
    "    if color == \"season\":\n",
    "        return (season_cmap, None)\n",
    "    if color == \"year\":\n",
    "        return (year_cmap, None)\n",
    "    if color == \"length_clr\":\n",
    "        return (\"coolwarm\", [-1, 1])\n",
    "    return (\"auto\", None)\n",
    "\n",
    "def on_color_change(change):\n",
    "    map, norm = get_cmap(change.new)\n",
    "    scatter.color(by=change.new, map=map, norm=norm)\n",
    "\n",
    "select_color.observe(on_color_change, names=[\"value\"])\n",
    "\n",
    "\"\"\"\n",
    "The final setup involves setting up the event handlers for when the filter\n",
    "setting changes\n",
    "\"\"\"\n",
    "def on_filter_change(change):\n",
    "    cat, val = (None, None) if change.new == \"-\" else change.new.split(\":\")\n",
    "    if cat is None:\n",
    "        scatter.filter(None)\n",
    "    else:\n",
    "        scatter.filter(huffpost_embeddings[huffpost_embeddings[cat] == val].index)\n",
    "\n",
    "select_filter.observe(on_filter_change, names=[\"value\"])"
   ]
  },
  {
   "cell_type": "markdown",
   "id": "50285934-25ed-4c60-ad75-5cf407ddc7a6",
   "metadata": {},
   "source": [
    "In the last step, we have to compose all pieces together. Thankfully, `ipywidgets` make this straight forward thanks to it's `AppLayout`, `HBox`, and `VBox` widgets."
   ]
  },
  {
   "cell_type": "code",
   "execution_count": null,
   "id": "28e18247-5796-45c6-95ec-47c7659831ee",
   "metadata": {},
   "outputs": [],
   "source": [
    "from ipywidgets import AppLayout, HTML, HBox, VBox\n",
    "\n",
    "VBox([\n",
    "    AppLayout(\n",
    "        center=HBox([select_color, select_filter]),\n",
    "        right_sidebar=HTML(value=\"Selected news articles:\")\n",
    "    ),\n",
    "    AppLayout(center=scatter.show(), right_sidebar=table)\n",
    "])"
   ]
  },
  {
   "cell_type": "markdown",
   "id": "b90bdaea-5443-43d4-b60d-910630fb9c58",
   "metadata": {},
   "source": [
    "Try changing the color and filter settings to see how new patterns emerge. Also try and select some points to view the related news headlines.\n",
    "\n",
    "An overall insight is that there are many small clusters of news articles related to a specific topic or person.\n",
    "\n",
    "For instance:\n",
    "\n",
    "1. Black Friday related news articles"
   ]
  },
  {
   "cell_type": "code",
   "execution_count": null,
   "id": "b96b8705-8352-4353-ae34-b21a09d42fd7",
   "metadata": {},
   "outputs": [],
   "source": [
    "select_color.value = \"season\"\n",
    "black_friday = [181658, 180634, 112847, 4451, 82237]\n",
    "scatter.selection(black_friday).zoom(black_friday, padding=20)"
   ]
  },
  {
   "cell_type": "code",
   "execution_count": null,
   "id": "16696c00-7e66-434a-ad96-782b680e05cb",
   "metadata": {},
   "outputs": [],
   "source": [
    "hurricane = [26535, 77027, 26235, 68812, 25048, 25129, 25972, 26092]\n",
    "scatter.selection(hurricane).zoom(hurricane, padding=20)"
   ]
  },
  {
   "cell_type": "markdown",
   "id": "e979f6f2-0363-4f92-bbc2-de32bdc8f50d",
   "metadata": {},
   "source": [
    "2. Articles related to corona. These articles are obviously much more present in 2021 but there are some earlier articles related to MERS too."
   ]
  },
  {
   "cell_type": "code",
   "execution_count": null,
   "id": "62bf2bc4-e254-42c4-9a6a-60336b21f2c8",
   "metadata": {},
   "outputs": [],
   "source": [
    "select_color.value = \"year\"\n",
    "corona_covid = [5344, 2116, 5188, 3204, 5228, 5197, 160843, 5172, 5202, 5252, 4975]\n",
    "scatter.selection(corona_covid).zoom(corona_covid, padding=50)"
   ]
  },
  {
   "cell_type": "markdown",
   "id": "5a153869-75d6-4810-817b-ecb3f3099142",
   "metadata": {},
   "source": [
    "3. Political articles tend to have slightly longer headlines than wellness/healthy living artiles"
   ]
  },
  {
   "cell_type": "code",
   "execution_count": null,
   "id": "c0dee602-2b2b-47ce-a216-c7fa65b09915",
   "metadata": {},
   "outputs": [],
   "source": [
    "select_color.value = \"length_clr\"\n",
    "long_headlines = [14746, 72340, 52809, 67847, 51324]\n",
    "short_headlines = [205616, 131555, 187525, 176811, 191559, 170954, 140922, 198538, 115228, 137532]\n",
    "scatter.selection(long_headlines + short_headlines).zoom(None)"
   ]
  },
  {
   "cell_type": "markdown",
   "id": "1ed0a971-f3be-4c35-a729-689da9a88ebc",
   "metadata": {},
   "source": [
    "4. There are two broad categories of \"divorce\" articles. One is about celebraty related divorse news and the other is about advice columns."
   ]
  },
  {
   "cell_type": "code",
   "execution_count": null,
   "id": "016fe504-e512-45e4-9d86-eb113cdda206",
   "metadata": {},
   "outputs": [],
   "source": [
    "select_filter.value = \"category:DIVORCE\"\n",
    "celebraty_divorce = [155148, 184805, 193010, 197669, 194119, 195507, 155438, 134902,]\n",
    "divorse_advice = [136070, 166976, 169044, 205926, 147585, 155480, 200162, 201555]\n",
    "scatter.selection(celebraty_divorce + divorse_advice).zoom(None)"
   ]
  },
  {
   "cell_type": "markdown",
   "id": "2a32a0c5-8862-446e-b3d9-44a20b9051f0",
   "metadata": {},
   "source": [
    "5. \"Wellness\" articles seem to have disappered after `2014` and reappear during to COVID"
   ]
  },
  {
   "cell_type": "code",
   "execution_count": null,
   "id": "5422da4a-9df1-4620-a53b-3491312652d7",
   "metadata": {},
   "outputs": [],
   "source": [
    "select_color.value = \"year\"\n",
    "select_filter.value = \"category:WELLNESS\"\n",
    "scatter.selection(celebraty_divorce + divorse_advice).zoom(None)"
   ]
  },
  {
   "cell_type": "markdown",
   "id": "b39f5edf-2f83-467a-9674-e09a7d7e2433",
   "metadata": {},
   "source": [
    "---\n",
    "\n",
    "## Next\n",
    "\n",
    "Next up, we'll show you how to bring the integration even further by using `jscatter` with a custom widget for the Fashion MNIST example we saw previously.\n",
    "\n",
    "➡️ [Building a Bespoke Interface for Exploring Fashion MNIST](3-Fashion-MNIST.ipynb)"
   ]
  },
  {
   "cell_type": "code",
   "execution_count": null,
   "id": "a0bd237d-faf8-409f-9b4a-baf167e4c8f0",
   "metadata": {},
   "outputs": [],
   "source": []
  }
 ],
 "metadata": {
  "kernelspec": {
   "display_name": "Python 3 (ipykernel)",
   "language": "python",
   "name": "python3"
  },
  "language_info": {
   "codemirror_mode": {
    "name": "ipython",
    "version": 3
   },
   "file_extension": ".py",
   "mimetype": "text/x-python",
   "name": "python",
   "nbconvert_exporter": "python",
   "pygments_lexer": "ipython3",
   "version": "3.10.9"
  }
 },
 "nbformat": 4,
 "nbformat_minor": 5
}
