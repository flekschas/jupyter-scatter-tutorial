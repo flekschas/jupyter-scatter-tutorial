{
 "cells": [
  {
   "cell_type": "markdown",
   "id": "b0759f84-79f3-446d-b23e-0fef987165ad",
   "metadata": {},
   "source": [
    "# Tooltip for the Fashion MNIST Embedding\n",
    "\n",
    "In this notebook we're going to show an example of the tooltip's image previews using an embedding of the [Fashion MNIST dataset](https://github.com/zalandoresearch/fashion-mnist) that we've seen before.\n",
    "\n",
    "> **NOTE:**\n",
    ">\n",
    "> In order to run this notebook you need to have Jupyter Scatter `v0.15.0` installed."
   ]
  },
  {
   "cell_type": "code",
   "execution_count": null,
   "id": "e8ae46ec-c52b-45f4-9a76-0536dc810c56",
   "metadata": {},
   "outputs": [],
   "source": [
    "!mkdir -p data\n",
    "!curl -L -C - -o data/fashion-mnist-embeddings.pq https://storage.googleapis.com/flekschas/jupyter-scatter-tutorial/fashion-mnist-embeddings.pq"
   ]
  },
  {
   "cell_type": "code",
   "execution_count": null,
   "id": "5ef52ed8-cc9e-408e-9c7e-34987b5bb499",
   "metadata": {},
   "outputs": [],
   "source": [
    "import pandas as pd\n",
    "\n",
    "df = pd.read_parquet('data/fashion-mnist-embeddings.pq')\n",
    "df = df.replace({\"class\": {0: \"T-shirt/top\", 1: \"Trouser\", 2: \"Pullover\", 3: \"Dress\", 4: \"Coat\", 5: \"Sandal\", 6: \"Shirt\", 7: \"Sneaker\", 8: \"Bag\", 9: \"Ankle boot\"}}).astype('category')\n",
    "\n",
    "base_url = \"https://storage.googleapis.com/flekschas/regl-scatterplot/fashion-mnist-images/\"\n",
    "df[\"url\"] = df.apply(lambda row: f\"{base_url}{row.name:05d}.png\", axis=1)"
   ]
  },
  {
   "cell_type": "code",
   "execution_count": null,
   "id": "52471c15-6563-403c-9a99-192b5ed33dd6",
   "metadata": {},
   "outputs": [],
   "source": [
    "from jscatter import Scatter\n",
    "\n",
    "scatter = Scatter(\n",
    "    data=df,\n",
    "    x='tsneX',\n",
    "    y='tsneY',\n",
    "    height=480,\n",
    "    background_color='#1E1E20',\n",
    "    color_by='class',\n",
    "    color_map={\n",
    "        \"T-shirt/top\": '#FFFF00',\n",
    "        \"Trouser\": '#1CE6FF',\n",
    "        \"Pullover\": '#FF34FF',\n",
    "        \"Dress\": '#FF4A46',\n",
    "        \"Coat\": '#008941',\n",
    "        \"Sandal\": '#006FA6',\n",
    "        \"Shirt\": '#A30059',\n",
    "        \"Sneaker\": '#FFDBE5',\n",
    "        \"Bag\": '#7A4900',\n",
    "        \"Ankle boot\": '#0000A6'\n",
    "    },\n",
    "    legend=True,\n",
    "    axes=False,\n",
    "    zoom_on_selection=True, # To automatically zoom to selected points\n",
    "    tooltip=True,\n",
    "    tooltip_preview=\"url\",\n",
    "    tooltip_preview_type=\"image\",\n",
    "    tooltip_preview_image_background_color=\"black\",\n",
    "    tooltip_properties=[\"color\"],\n",
    ")\n",
    "\n",
    "scatter.show()"
   ]
  },
  {
   "cell_type": "code",
   "execution_count": null,
   "id": "efdf4d91-b988-45a6-b409-67a8f3a66c59",
   "metadata": {},
   "outputs": [],
   "source": []
  }
 ],
 "metadata": {
  "kernelspec": {
   "display_name": "Python 3 (ipykernel)",
   "language": "python",
   "name": "python3"
  },
  "language_info": {
   "codemirror_mode": {
    "name": "ipython",
    "version": 3
   },
   "file_extension": ".py",
   "mimetype": "text/x-python",
   "name": "python",
   "nbconvert_exporter": "python",
   "pygments_lexer": "ipython3",
   "version": "3.10.9"
  }
 },
 "nbformat": 4,
 "nbformat_minor": 5
}
